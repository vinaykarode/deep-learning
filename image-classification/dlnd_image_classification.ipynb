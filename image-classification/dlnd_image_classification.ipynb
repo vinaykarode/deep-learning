{
 "cells": [
  {
   "cell_type": "markdown",
   "metadata": {
    "collapsed": true,
    "deletable": true,
    "editable": true
   },
   "source": [
    "# Image Classification\n",
    "In this project, you'll classify images from the [CIFAR-10 dataset](https://www.cs.toronto.edu/~kriz/cifar.html).  The dataset consists of airplanes, dogs, cats, and other objects. You'll preprocess the images, then train a convolutional neural network on all the samples. The images need to be normalized and the labels need to be one-hot encoded.  You'll get to apply what you learned and build a convolutional, max pooling, dropout, and fully connected layers.  At the end, you'll get to see your neural network's predictions on the sample images.\n",
    "## Get the Data\n",
    "Run the following cell to download the [CIFAR-10 dataset for python](https://www.cs.toronto.edu/~kriz/cifar-10-python.tar.gz)."
   ]
  },
  {
   "cell_type": "code",
   "execution_count": 1,
   "metadata": {
    "collapsed": false,
    "deletable": true,
    "editable": true
   },
   "outputs": [
    {
     "name": "stderr",
     "output_type": "stream",
     "text": [
      "CIFAR-10 Dataset: 171MB [00:34, 4.92MB/s]                              \n"
     ]
    },
    {
     "name": "stdout",
     "output_type": "stream",
     "text": [
      "All files found!\n"
     ]
    }
   ],
   "source": [
    "\"\"\"\n",
    "DON'T MODIFY ANYTHING IN THIS CELL THAT IS BELOW THIS LINE\n",
    "\"\"\"\n",
    "from urllib.request import urlretrieve\n",
    "from os.path import isfile, isdir\n",
    "from tqdm import tqdm\n",
    "import problem_unittests as tests\n",
    "import tarfile\n",
    "\n",
    "cifar10_dataset_folder_path = 'cifar-10-batches-py'\n",
    "\n",
    "class DLProgress(tqdm):\n",
    "    last_block = 0\n",
    "\n",
    "    def hook(self, block_num=1, block_size=1, total_size=None):\n",
    "        self.total = total_size\n",
    "        self.update((block_num - self.last_block) * block_size)\n",
    "        self.last_block = block_num\n",
    "\n",
    "if not isfile('cifar-10-python.tar.gz'):\n",
    "    with DLProgress(unit='B', unit_scale=True, miniters=1, desc='CIFAR-10 Dataset') as pbar:\n",
    "        urlretrieve(\n",
    "            'https://www.cs.toronto.edu/~kriz/cifar-10-python.tar.gz',\n",
    "            'cifar-10-python.tar.gz',\n",
    "            pbar.hook)\n",
    "\n",
    "if not isdir(cifar10_dataset_folder_path):\n",
    "    with tarfile.open('cifar-10-python.tar.gz') as tar:\n",
    "        tar.extractall()\n",
    "        tar.close()\n",
    "\n",
    "\n",
    "tests.test_folder_path(cifar10_dataset_folder_path)"
   ]
  },
  {
   "cell_type": "markdown",
   "metadata": {
    "deletable": true,
    "editable": true
   },
   "source": [
    "## Explore the Data\n",
    "The dataset is broken into batches to prevent your machine from running out of memory.  The CIFAR-10 dataset consists of 5 batches, named `data_batch_1`, `data_batch_2`, etc.. Each batch contains the labels and images that are one of the following:\n",
    "* airplane\n",
    "* automobile\n",
    "* bird\n",
    "* cat\n",
    "* deer\n",
    "* dog\n",
    "* frog\n",
    "* horse\n",
    "* ship\n",
    "* truck\n",
    "\n",
    "Understanding a dataset is part of making predictions on the data.  Play around with the code cell below by changing the `batch_id` and `sample_id`. The `batch_id` is the id for a batch (1-5). The `sample_id` is the id for a image and label pair in the batch.\n",
    "\n",
    "Ask yourself \"What are all possible labels?\", \"What is the range of values for the image data?\", \"Are the labels in order or random?\".  Answers to questions like these will help you preprocess the data and end up with better predictions."
   ]
  },
  {
   "cell_type": "code",
   "execution_count": 2,
   "metadata": {
    "collapsed": false,
    "deletable": true,
    "editable": true
   },
   "outputs": [
    {
     "name": "stdout",
     "output_type": "stream",
     "text": [
      "\n",
      "Stats of batch 5:\n",
      "Samples: 10000\n",
      "Label Counts: {0: 1014, 1: 1014, 2: 952, 3: 1016, 4: 997, 5: 1025, 6: 980, 7: 977, 8: 1003, 9: 1022}\n",
      "First 20 Labels: [1, 8, 5, 1, 5, 7, 4, 3, 8, 2, 7, 2, 0, 1, 5, 9, 6, 2, 0, 8]\n",
      "\n",
      "Example of Image 0:\n",
      "Image - Min Value: 2 Max Value: 255\n",
      "Image - Shape: (32, 32, 3)\n",
      "Label - Label Id: 1 Name: automobile\n"
     ]
    },
    {
     "data": {
      "image/png": "[encoded data removed]",
      "text/plain": [
       "<matplotlib.figure.Figure at 0x7faaa82e3908>"
      ]
     },
     "metadata": {
      "image/png": {
       "height": 250,
       "width": 253
      }
     },
     "output_type": "display_data"
    }
   ],
   "source": [
    "%matplotlib inline\n",
    "%config InlineBackend.figure_format = 'retina'\n",
    "\n",
    "import helper\n",
    "import numpy as np\n",
    "\n",
    "# Explore the dataset\n",
    "batch_id = 5\n",
    "sample_id = 0\n",
    "helper.display_stats(cifar10_dataset_folder_path, batch_id, sample_id)"
   ]
  },
  {
   "cell_type": "markdown",
   "metadata": {
    "deletable": true,
    "editable": true
   },
   "source": [
    "## Implement Preprocess Functions\n",
    "### Normalize\n",
    "In the cell below, implement the `normalize` function to take in image data, `x`, and return it as a normalized Numpy array. The values should be in the range of 0 to 1, inclusive.  The return object should be the same shape as `x`."
   ]
  },
  {
   "cell_type": "code",
   "execution_count": 3,
   "metadata": {
    "collapsed": false,
    "deletable": true,
    "editable": true
   },
   "outputs": [
    {
     "name": "stdout",
     "output_type": "stream",
     "text": [
      "Tests Passed\n"
     ]
    }
   ],
   "source": [
    "def normalize(x):\n",
    "    \"\"\"\n",
    "    Normalize a list of sample image data in the range of 0 to 1\n",
    "    : x: List of image data.  The image shape is (32, 32, 3)\n",
    "    : return: Numpy array of normalize data\n",
    "    \"\"\"\n",
    "    # TODO: Implement Function\n",
    "    \n",
    "    return (x - x.min())/(x.max()-x.min())\n",
    "\n",
    "\"\"\"\n",
    "DON'T MODIFY ANYTHING IN THIS CELL THAT IS BELOW THIS LINE\n",
    "\"\"\"\n",
    "tests.test_normalize(normalize)"
   ]
  },
  {
   "cell_type": "markdown",
   "metadata": {
    "deletable": true,
    "editable": true
   },
   "source": [
    "### One-hot encode\n",
    "Just like the previous code cell, you'll be implementing a function for preprocessing.  This time, you'll implement the `one_hot_encode` function. The input, `x`, are a list of labels.  Implement the function to return the list of labels as One-Hot encoded Numpy array.  The possible values for labels are 0 to 9. The one-hot encoding function should return the same encoding for each value between each call to `one_hot_encode`.  Make sure to save the map of encodings outside the function.\n",
    "\n",
    "Hint: Don't reinvent the wheel."
   ]
  },
  {
   "cell_type": "code",
   "execution_count": 4,
   "metadata": {
    "collapsed": false,
    "deletable": true,
    "editable": true
   },
   "outputs": [
    {
     "name": "stdout",
     "output_type": "stream",
     "text": [
      "Tests Passed\n"
     ]
    }
   ],
   "source": [
    "from sklearn import preprocessing\n",
    "\n",
    "encoded = False\n",
    "lb = preprocessing.LabelBinarizer()\n",
    "\n",
    "def get_encoding(x):\n",
    "    global encoded\n",
    "    if not encoded:\n",
    "        encoded = True\n",
    "        lb.fit(x)\n",
    "        return\n",
    "    \n",
    "    \n",
    "def one_hot_encode(x):\n",
    "    \"\"\"\n",
    "    One hot encode a list of sample labels. Return a one-hot encoded vector for each label.\n",
    "    : x: List of sample Labels\n",
    "    : return: Numpy array of one-hot encoded labels\n",
    "    \"\"\"\n",
    "    # TODO: Implement Function\n",
    "    get_encoding(x)\n",
    "    return lb.transform(x)\n",
    "\n",
    "\"\"\"\n",
    "DON'T MODIFY ANYTHING IN THIS CELL THAT IS BELOW THIS LINE\n",
    "\"\"\"\n",
    "tests.test_one_hot_encode(one_hot_encode)"
   ]
  },
  {
   "cell_type": "markdown",
   "metadata": {
    "deletable": true,
    "editable": true
   },
   "source": [
    "### Randomize Data\n",
    "As you saw from exploring the data above, the order of the samples are randomized.  It doesn't hurt to randomize it again, but you don't need to for this dataset."
   ]
  },
  {
   "cell_type": "markdown",
   "metadata": {
    "deletable": true,
    "editable": true
   },
   "source": [
    "## Preprocess all the data and save it\n",
    "Running the code cell below will preprocess all the CIFAR-10 data and save it to file. The code below also uses 10% of the training data for validation."
   ]
  },
  {
   "cell_type": "code",
   "execution_count": 5,
   "metadata": {
    "collapsed": false,
    "deletable": true,
    "editable": true
   },
   "outputs": [],
   "source": [
    "\"\"\"\n",
    "DON'T MODIFY ANYTHING IN THIS CELL\n",
    "\"\"\"\n",
    "# Preprocess Training, Validation, and Testing Data\n",
    "helper.preprocess_and_save_data(cifar10_dataset_folder_path, normalize, one_hot_encode)"
   ]
  },
  {
   "cell_type": "markdown",
   "metadata": {
    "deletable": true,
    "editable": true
   },
   "source": [
    "# Check Point\n",
    "This is your first checkpoint.  If you ever decide to come back to this notebook or have to restart the notebook, you can start from here.  The preprocessed data has been saved to disk."
   ]
  },
  {
   "cell_type": "code",
   "execution_count": 6,
   "metadata": {
    "collapsed": true,
    "deletable": true,
    "editable": true
   },
   "outputs": [],
   "source": [
    "\"\"\"\n",
    "DON'T MODIFY ANYTHING IN THIS CELL\n",
    "\"\"\"\n",
    "import pickle\n",
    "import problem_unittests as tests\n",
    "import helper\n",
    "\n",
    "# Load the Preprocessed Validation data\n",
    "valid_features, valid_labels = pickle.load(open('preprocess_validation.p', mode='rb'))"
   ]
  },
  {
   "cell_type": "markdown",
   "metadata": {
    "deletable": true,
    "editable": true
   },
   "source": [
    "## Build the network\n",
    "For the neural network, you'll build each layer into a function.  Most of the code you've seen has been outside of functions. To test your code more thoroughly, we require that you put each layer in a function.  This allows us to give you better feedback and test for simple mistakes using our unittests before you submit your project.\n",
    "\n",
    ">**Note:** If you're finding it hard to dedicate enough time for this course each week, we've provided a small shortcut to this part of the project. In the next couple of problems, you'll have the option to use classes from the [TensorFlow Layers](https://www.tensorflow.org/api_docs/python/tf/layers) or [TensorFlow Layers (contrib)](https://www.tensorflow.org/api_guides/python/contrib.layers) packages to build each layer, except the layers you build in the \"Convolutional and Max Pooling Layer\" section.  TF Layers is similar to Keras's and TFLearn's abstraction to layers, so it's easy to pickup.\n",
    "\n",
    ">However, if you would like to get the most out of this course, try to solve all the problems _without_ using anything from the TF Layers packages. You **can** still use classes from other packages that happen to have the same name as ones you find in TF Layers! For example, instead of using the TF Layers version of the `conv2d` class, [tf.layers.conv2d](https://www.tensorflow.org/api_docs/python/tf/layers/conv2d), you would want to use the TF Neural Network version of `conv2d`, [tf.nn.conv2d](https://www.tensorflow.org/api_docs/python/tf/nn/conv2d). \n",
    "\n",
    "Let's begin!\n",
    "\n",
    "### Input\n",
    "The neural network needs to read the image data, one-hot encoded labels, and dropout keep probability. Implement the following functions\n",
    "* Implement `neural_net_image_input`\n",
    " * Return a [TF Placeholder](https://www.tensorflow.org/api_docs/python/tf/placeholder)\n",
    " * Set the shape using `image_shape` with batch size set to `None`.\n",
    " * Name the TensorFlow placeholder \"x\" using the TensorFlow `name` parameter in the [TF Placeholder](https://www.tensorflow.org/api_docs/python/tf/placeholder).\n",
    "* Implement `neural_net_label_input`\n",
    " * Return a [TF Placeholder](https://www.tensorflow.org/api_docs/python/tf/placeholder)\n",
    " * Set the shape using `n_classes` with batch size set to `None`.\n",
    " * Name the TensorFlow placeholder \"y\" using the TensorFlow `name` parameter in the [TF Placeholder](https://www.tensorflow.org/api_docs/python/tf/placeholder).\n",
    "* Implement `neural_net_keep_prob_input`\n",
    " * Return a [TF Placeholder](https://www.tensorflow.org/api_docs/python/tf/placeholder) for dropout keep probability.\n",
    " * Name the TensorFlow placeholder \"keep_prob\" using the TensorFlow `name` parameter in the [TF Placeholder](https://www.tensorflow.org/api_docs/python/tf/placeholder).\n",
    "\n",
    "These names will be used at the end of the project to load your saved model.\n",
    "\n",
    "Note: `None` for shapes in TensorFlow allow for a dynamic size."
   ]
  },
  {
   "cell_type": "code",
   "execution_count": 7,
   "metadata": {
    "collapsed": false,
    "deletable": true,
    "editable": true
   },
   "outputs": [
    {
     "name": "stdout",
     "output_type": "stream",
     "text": [
      "1.0.0\n",
      "Image Input Tests Passed.\n",
      "Label Input Tests Passed.\n",
      "Keep Prob Tests Passed.\n"
     ]
    }
   ],
   "source": [
    "import tensorflow as tf\n",
    "print(tf.__version__)\n",
    "def neural_net_image_input(image_shape):\n",
    "    \"\"\"\n",
    "    Return a Tensor for a bach of image input\n",
    "    : image_shape: Shape of the images\n",
    "    : return: Tensor for image input.\n",
    "    \"\"\"\n",
    "    # TODO: Implement Function\n",
    "    return tf.placeholder(tf.float32, shape=(None,) + image_shape, name='x')\n",
    "\n",
    "\n",
    "def neural_net_label_input(n_classes):\n",
    "    \"\"\"\n",
    "    Return a Tensor for a batch of label input\n",
    "    : n_classes: Number of classes\n",
    "    : return: Tensor for label input.\n",
    "    \"\"\"\n",
    "    # TODO: Implement Function\n",
    "    return tf.placeholder(tf.float32, shape=[None, n_classes] , name='y')\n",
    "\n",
    "\n",
    "def neural_net_keep_prob_input():\n",
    "    \"\"\"\n",
    "    Return a Tensor for keep probability\n",
    "    : return: Tensor for keep probability.\n",
    "    \"\"\"\n",
    "    # TODO: Implement Function\n",
    "    return tf.placeholder(tf.float32, name='keep_prob')\n",
    "\n",
    "\n",
    "\"\"\"\n",
    "DON'T MODIFY ANYTHING IN THIS CELL THAT IS BELOW THIS LINE\n",
    "\"\"\"\n",
    "tf.reset_default_graph()\n",
    "tests.test_nn_image_inputs(neural_net_image_input)\n",
    "tests.test_nn_label_inputs(neural_net_label_input)\n",
    "tests.test_nn_keep_prob_inputs(neural_net_keep_prob_input)"
   ]
  },
  {
   "cell_type": "markdown",
   "metadata": {
    "deletable": true,
    "editable": true
   },
   "source": [
    "### Convolution and Max Pooling Layer\n",
    "Convolution layers have a lot of success with images. For this code cell, you should implement the function `conv2d_maxpool` to apply convolution then max pooling:\n",
    "* Create the weight and bias using `conv_ksize`, `conv_num_outputs` and the shape of `x_tensor`.\n",
    "* Apply a convolution to `x_tensor` using weight and `conv_strides`.\n",
    " * We recommend you use same padding, but you're welcome to use any padding.\n",
    "* Add bias\n",
    "* Add a nonlinear activation to the convolution.\n",
    "* Apply Max Pooling using `pool_ksize` and `pool_strides`.\n",
    " * We recommend you use same padding, but you're welcome to use any padding.\n",
    "\n",
    "**Note:** You **can't** use [TensorFlow Layers](https://www.tensorflow.org/api_docs/python/tf/layers) or [TensorFlow Layers (contrib)](https://www.tensorflow.org/api_guides/python/contrib.layers) for **this** layer, but you can still use TensorFlow's [Neural Network](https://www.tensorflow.org/api_docs/python/tf/nn) package. You may still use the shortcut option for all the **other** layers."
   ]
  },
  {
   "cell_type": "code",
   "execution_count": 8,
   "metadata": {
    "collapsed": false,
    "deletable": true,
    "editable": true
   },
   "outputs": [
    {
     "name": "stdout",
     "output_type": "stream",
     "text": [
      "Tests Passed\n"
     ]
    }
   ],
   "source": [
    "def conv2d_maxpool(x_tensor, conv_num_outputs, conv_ksize, conv_strides, pool_ksize, pool_strides):\n",
    "    \"\"\"\n",
    "    Apply convolution then max pooling to x_tensor\n",
    "    :param x_tensor: TensorFlow Tensor\n",
    "    :param conv_num_outputs: Number of outputs for the convolutional layer\n",
    "    :param conv_ksize: kernal size 2-D Tuple for the convolutional layer\n",
    "    :param conv_strides: Stride 2-D Tuple for convolution\n",
    "    :param pool_ksize: kernal size 2-D Tuple for pool\n",
    "    :param pool_strides: Stride 2-D Tuple for pool\n",
    "    : return: A tensor that represents convolution and max pooling of x_tensor\n",
    "    \"\"\"\n",
    "    # TODO: Implement Function\n",
    "    \n",
    "    weights = tf.Variable(tf.truncated_normal(conv_ksize+(x_tensor.get_shape().as_list()[3],conv_num_outputs), stddev=0.05))\n",
    "    bias = tf.Variable(tf.truncated_normal([conv_num_outputs], stddev=0.05))\n",
    "    \n",
    "    conv = tf.nn.conv2d(input=x_tensor, filter=weights, strides=(1,)+conv_strides+(1,), padding='SAME')\n",
    "    conv = tf.nn.bias_add(conv, bias)\n",
    "    conv = tf.nn.relu(conv)\n",
    "    \n",
    "    pool = tf.nn.max_pool(conv, ksize=(1,)+pool_ksize+(1,), strides=(1,)+pool_strides+(1,), padding='SAME')\n",
    "    \n",
    "    return pool \n",
    "\n",
    "\n",
    "\"\"\"\n",
    "DON'T MODIFY ANYTHING IN THIS CELL THAT IS BELOW THIS LINE\n",
    "\"\"\"\n",
    "tests.test_con_pool(conv2d_maxpool)"
   ]
  },
  {
   "cell_type": "markdown",
   "metadata": {
    "deletable": true,
    "editable": true
   },
   "source": [
    "### Flatten Layer\n",
    "Implement the `flatten` function to change the dimension of `x_tensor` from a 4-D tensor to a 2-D tensor.  The output should be the shape (*Batch Size*, *Flattened Image Size*). Shortcut option: you can use classes from the [TensorFlow Layers](https://www.tensorflow.org/api_docs/python/tf/layers) or [TensorFlow Layers (contrib)](https://www.tensorflow.org/api_guides/python/contrib.layers) packages for this layer. For more of a challenge, only use other TensorFlow packages."
   ]
  },
  {
   "cell_type": "code",
   "execution_count": 9,
   "metadata": {
    "collapsed": false,
    "deletable": true,
    "editable": true
   },
   "outputs": [
    {
     "name": "stdout",
     "output_type": "stream",
     "text": [
      "Tests Passed\n"
     ]
    }
   ],
   "source": [
    "def flatten(x_tensor):\n",
    "    \"\"\"\n",
    "    Flatten x_tensor to (Batch Size, Flattened Image Size)\n",
    "    : x_tensor: A tensor of size (Batch Size, ...), where ... are the image dimensions.\n",
    "    : return: A tensor of size (Batch Size, Flattened Image Size).\n",
    "    \"\"\"\n",
    "    # TODO: Implement Function\n",
    "    xVal = x_tensor.get_shape().as_list()\n",
    "    dim = xVal[1] * xVal[2] * xVal[3]\n",
    "    flat = tf.reshape(x_tensor, shape=[-1, dim])\n",
    "\n",
    "    return flat\n",
    "\n",
    "\n",
    "\"\"\"\n",
    "DON'T MODIFY ANYTHING IN THIS CELL THAT IS BELOW THIS LINE\n",
    "\"\"\"\n",
    "tests.test_flatten(flatten)"
   ]
  },
  {
   "cell_type": "markdown",
   "metadata": {
    "deletable": true,
    "editable": true
   },
   "source": [
    "### Fully-Connected Layer\n",
    "Implement the `fully_conn` function to apply a fully connected layer to `x_tensor` with the shape (*Batch Size*, *num_outputs*). Shortcut option: you can use classes from the [TensorFlow Layers](https://www.tensorflow.org/api_docs/python/tf/layers) or [TensorFlow Layers (contrib)](https://www.tensorflow.org/api_guides/python/contrib.layers) packages for this layer. For more of a challenge, only use other TensorFlow packages."
   ]
  },
  {
   "cell_type": "code",
   "execution_count": 10,
   "metadata": {
    "collapsed": false,
    "deletable": true,
    "editable": true
   },
   "outputs": [
    {
     "name": "stdout",
     "output_type": "stream",
     "text": [
      "Tests Passed\n"
     ]
    }
   ],
   "source": [
    "def fully_conn(x_tensor, num_outputs):\n",
    "    \"\"\"\n",
    "    Apply a fully connected layer to x_tensor using weight and bias\n",
    "    : x_tensor: A 2-D tensor where the first dimension is batch size.\n",
    "    : num_outputs: The number of output that the new tensor should be.\n",
    "    : return: A 2-D tensor where the second dimension is num_outputs.\n",
    "    \"\"\"\n",
    "    # TODO: Implement Function\n",
    "\n",
    "    weights = tf.Variable(tf.truncated_normal([x_tensor.get_shape().as_list()[1], num_outputs], stddev=0.05))\n",
    "    bias = tf.Variable(tf.truncated_normal([num_outputs], stddev=0.05))\n",
    "    \n",
    "\n",
    "    fully_connected = tf.add(tf.matmul(x_tensor, weights), bias)\n",
    "    fully_connected = tf.nn.relu(fully_connected)\n",
    "\n",
    "    return fully_connected\n",
    "\n",
    "\n",
    "\"\"\"\n",
    "DON'T MODIFY ANYTHING IN THIS CELL THAT IS BELOW THIS LINE\n",
    "\"\"\"\n",
    "tests.test_fully_conn(fully_conn)"
   ]
  },
  {
   "cell_type": "markdown",
   "metadata": {
    "deletable": true,
    "editable": true
   },
   "source": [
    "### Output Layer\n",
    "Implement the `output` function to apply a fully connected layer to `x_tensor` with the shape (*Batch Size*, *num_outputs*). Shortcut option: you can use classes from the [TensorFlow Layers](https://www.tensorflow.org/api_docs/python/tf/layers) or [TensorFlow Layers (contrib)](https://www.tensorflow.org/api_guides/python/contrib.layers) packages for this layer. For more of a challenge, only use other TensorFlow packages.\n",
    "\n",
    "**Note:** Activation, softmax, or cross entropy should **not** be applied to this."
   ]
  },
  {
   "cell_type": "code",
   "execution_count": 11,
   "metadata": {
    "collapsed": false,
    "deletable": true,
    "editable": true
   },
   "outputs": [
    {
     "name": "stdout",
     "output_type": "stream",
     "text": [
      "Tests Passed\n"
     ]
    }
   ],
   "source": [
    "def output(x_tensor, num_outputs):\n",
    "    \"\"\"\n",
    "    Apply a output layer to x_tensor using weight and bias\n",
    "    : x_tensor: A 2-D tensor where the first dimension is batch size.\n",
    "    : num_outputs: The number of output that the new tensor should be.\n",
    "    : return: A 2-D tensor where the second dimension is num_outputs.\n",
    "    \"\"\"\n",
    "    \n",
    "    weights = tf.Variable(tf.truncated_normal([x_tensor.get_shape().as_list()[1], num_outputs], stddev=0.05))\n",
    "    bias = tf.Variable(tf.truncated_normal([num_outputs],stddev=0.05))\n",
    "    \n",
    "    output = tf.add(tf.matmul(x_tensor, weights), bias)\n",
    "\n",
    "    return output\n",
    "\n",
    "\n",
    "\"\"\"\n",
    "DON'T MODIFY ANYTHING IN THIS CELL THAT IS BELOW THIS LINE\n",
    "\"\"\"\n",
    "tests.test_output(output)"
   ]
  },
  {
   "cell_type": "markdown",
   "metadata": {
    "deletable": true,
    "editable": true
   },
   "source": [
    "### Create Convolutional Model\n",
    "Implement the function `conv_net` to create a convolutional neural network model. The function takes in a batch of images, `x`, and outputs logits.  Use the layers you created above to create this model:\n",
    "\n",
    "* Apply 1, 2, or 3 Convolution and Max Pool layers\n",
    "* Apply a Flatten Layer\n",
    "* Apply 1, 2, or 3 Fully Connected Layers\n",
    "* Apply an Output Layer\n",
    "* Return the output\n",
    "* Apply [TensorFlow's Dropout](https://www.tensorflow.org/api_docs/python/tf/nn/dropout) to one or more layers in the model using `keep_prob`. "
   ]
  },
  {
   "cell_type": "code",
   "execution_count": 34,
   "metadata": {
    "collapsed": false,
    "deletable": true,
    "editable": true
   },
   "outputs": [
    {
     "name": "stdout",
     "output_type": "stream",
     "text": [
      "x shape is  Tensor(\"x:0\", shape=(?, 32, 32, 3), dtype=float32)\n",
      "x shape is  Tensor(\"Placeholder:0\", shape=(?, 32, 32, 3), dtype=float32)\n",
      "Neural Network Built!\n"
     ]
    }
   ],
   "source": [
    "def conv_net(x, keep_prob):\n",
    "    \"\"\"\n",
    "    Create a convolutional neural network model\n",
    "    : x: Placeholder tensor that holds image data.\n",
    "    : keep_prob: Placeholder tensor that hold dropout keep probability.\n",
    "    : return: Tensor that represents logits\n",
    "    \"\"\"\n",
    "    # TODO: Apply 1, 2, or 3 Convolution and Max Pool layers\n",
    "    #    Play around with different number of outputs, kernel size and stride\n",
    "    # Function Definition from Above:\n",
    "    #    conv2d_maxpool(x_tensor, conv_num_outputs, conv_ksize, conv_strides, pool_ksize, pool_strides)\n",
    "    \n",
    "    conv_num_outputs = 10\n",
    "#     conv_ksize = (4,4)\n",
    "    conv_strides = (1,1)\n",
    "#     pool_ksize = (2,2)\n",
    "    pool_strides = (2,2)\n",
    "    print('x shape is ', x)\n",
    "    conv = conv2d_maxpool(x, 64, (8,8), conv_strides, (6,6), pool_strides)\n",
    "    conv = conv2d_maxpool(conv, 128, (6,6), conv_strides, (4,4), pool_strides)\n",
    "    conv = conv2d_maxpool(conv, 256, (4,4), conv_strides, (2,2), pool_strides)\n",
    "\n",
    "    # TODO: Apply a Flatten Layer\n",
    "    # Function Definition from Above:\n",
    "    #   flatten(x_tensor)\n",
    "    flat = flatten(conv)\n",
    "\n",
    "    # TODO: Apply 1, 2, or 3 Fully Connected Layers\n",
    "    #    Play around with different number of outputs\n",
    "    # Function Definition from Above:\n",
    "    #   fully_conn(x_tensor, num_outputs)\n",
    "    \n",
    "    fullC = fully_conn(flat, 256)\n",
    "    fullC = tf.nn.dropout(fullC, keep_prob)\n",
    "    fullC = fully_conn(flat, 128)\n",
    "    fullC = tf.nn.dropout(fullC, keep_prob)\n",
    "    \n",
    "    # TODO: Apply an Output Layer\n",
    "    #    Set this to the number of classes\n",
    "    # Function Definition from Above:\n",
    "    #   output(x_tensor, num_outputs)\n",
    "    out = output(fullC, conv_num_outputs)\n",
    "    \n",
    "    # TODO: return output\n",
    "    return out\n",
    "\n",
    "\n",
    "\"\"\"\n",
    "DON'T MODIFY ANYTHING IN THIS CELL THAT IS BELOW THIS LINE\n",
    "\"\"\"\n",
    "\n",
    "##############################\n",
    "## Build the Neural Network ##\n",
    "##############################\n",
    "\n",
    "# Remove previous weights, bias, inputs, etc..\n",
    "tf.reset_default_graph()\n",
    "\n",
    "# Inputs\n",
    "x = neural_net_image_input((32, 32, 3))\n",
    "y = neural_net_label_input(10)\n",
    "keep_prob = neural_net_keep_prob_input()\n",
    "\n",
    "# Model\n",
    "logits = conv_net(x, keep_prob)\n",
    "\n",
    "# Name logits Tensor, so that is can be loaded from disk after training\n",
    "logits = tf.identity(logits, name='logits')\n",
    "\n",
    "# Loss and Optimizer\n",
    "cost = tf.reduce_mean(tf.nn.softmax_cross_entropy_with_logits(logits=logits, labels=y))\n",
    "optimizer = tf.train.AdamOptimizer(learning_rate=0.0001).minimize(cost)\n",
    "\n",
    "# Accuracy\n",
    "correct_pred = tf.equal(tf.argmax(logits, 1), tf.argmax(y, 1))\n",
    "accuracy = tf.reduce_mean(tf.cast(correct_pred, tf.float32), name='accuracy')\n",
    "\n",
    "tests.test_conv_net(conv_net)"
   ]
  },
  {
   "cell_type": "markdown",
   "metadata": {
    "deletable": true,
    "editable": true
   },
   "source": [
    "## Train the Neural Network\n",
    "### Single Optimization\n",
    "Implement the function `train_neural_network` to do a single optimization.  The optimization should use `optimizer` to optimize in `session` with a `feed_dict` of the following:\n",
    "* `x` for image input\n",
    "* `y` for labels\n",
    "* `keep_prob` for keep probability for dropout\n",
    "\n",
    "This function will be called for each batch, so `tf.global_variables_initializer()` has already been called.\n",
    "\n",
    "Note: Nothing needs to be returned. This function is only optimizing the neural network."
   ]
  },
  {
   "cell_type": "code",
   "execution_count": 35,
   "metadata": {
    "collapsed": false,
    "deletable": true,
    "editable": true
   },
   "outputs": [
    {
     "name": "stdout",
     "output_type": "stream",
     "text": [
      "Tests Passed\n"
     ]
    }
   ],
   "source": [
    "def train_neural_network(session, optimizer, keep_probability, feature_batch, label_batch):\n",
    "    \"\"\"\n",
    "    Optimize the session on a batch of images and labels\n",
    "    : session: Current TensorFlow session\n",
    "    : optimizer: TensorFlow optimizer function\n",
    "    : keep_probability: keep probability\n",
    "    : feature_batch: Batch of Numpy image data\n",
    "    : label_batch: Batch of Numpy label data\n",
    "    \"\"\"\n",
    "    # TODO: Implement Function\n",
    "    return session.run(optimizer, feed_dict={x:feature_batch, y:label_batch, keep_prob:keep_probability})\n",
    "\n",
    "\n",
    "\"\"\"\n",
    "DON'T MODIFY ANYTHING IN THIS CELL THAT IS BELOW THIS LINE\n",
    "\"\"\"\n",
    "tests.test_train_nn(train_neural_network)"
   ]
  },
  {
   "cell_type": "markdown",
   "metadata": {
    "deletable": true,
    "editable": true
   },
   "source": [
    "### Show Stats\n",
    "Implement the function `print_stats` to print loss and validation accuracy.  Use the global variables `valid_features` and `valid_labels` to calculate validation accuracy.  Use a keep probability of `1.0` to calculate the loss and validation accuracy."
   ]
  },
  {
   "cell_type": "code",
   "execution_count": 36,
   "metadata": {
    "collapsed": false,
    "deletable": true,
    "editable": true
   },
   "outputs": [],
   "source": [
    "def print_stats(session, feature_batch, label_batch, cost, accuracy):\n",
    "    \"\"\"\n",
    "    Print information about loss and validation accuracy\n",
    "    : session: Current TensorFlow session\n",
    "    : feature_batch: Batch of Numpy image data\n",
    "    : label_batch: Batch of Numpy label data\n",
    "    : cost: TensorFlow cost function\n",
    "    : accuracy: TensorFlow accuracy function\n",
    "    \"\"\"\n",
    "    # TODO: Implement Function\n",
    "    bloss = session.run(cost, feed_dict={x:feature_batch, y:label_batch, keep_prob:1.0})\n",
    "    baccuracy = session.run(accuracy, feed_dict={x:valid_features, y:valid_labels, keep_prob:1.0})\n",
    "    print('loss is : ', bloss)\n",
    "    print('validation accuracy is :',baccuracy)\n",
    "    pass"
   ]
  },
  {
   "cell_type": "markdown",
   "metadata": {
    "deletable": true,
    "editable": true
   },
   "source": [
    "### Hyperparameters\n",
    "Tune the following parameters:\n",
    "* Set `epochs` to the number of iterations until the network stops learning or start overfitting\n",
    "* Set `batch_size` to the highest number that your machine has memory for.  Most people set them to common sizes of memory:\n",
    " * 64\n",
    " * 128\n",
    " * 256\n",
    " * ...\n",
    "* Set `keep_probability` to the probability of keeping a node using dropout"
   ]
  },
  {
   "cell_type": "code",
   "execution_count": 37,
   "metadata": {
    "collapsed": false,
    "deletable": true,
    "editable": true
   },
   "outputs": [],
   "source": [
    "# TODO: Tune Parameters\n",
    "epochs = 25\n",
    "batch_size = 512\n",
    "keep_probability = 0.5\n"
   ]
  },
  {
   "cell_type": "markdown",
   "metadata": {
    "deletable": true,
    "editable": true
   },
   "source": [
    "### Train on a Single CIFAR-10 Batch\n",
    "Instead of training the neural network on all the CIFAR-10 batches of data, let's use a single batch. This should save time while you iterate on the model to get a better accuracy.  Once the final validation accuracy is 50% or greater, run the model on all the data in the next section."
   ]
  },
  {
   "cell_type": "code",
   "execution_count": 38,
   "metadata": {
    "collapsed": false,
    "deletable": true,
    "editable": true
   },
   "outputs": [
    {
     "name": "stdout",
     "output_type": "stream",
     "text": [
      "Checking the Training on a Single Batch...\n",
      "Epoch  1, CIFAR-10 Batch 1:  loss is :  2.22302\n",
      "validation accuracy is : 0.202\n",
      "Epoch  2, CIFAR-10 Batch 1:  loss is :  2.12024\n",
      "validation accuracy is : 0.2398\n",
      "Epoch  3, CIFAR-10 Batch 1:  loss is :  1.99655\n",
      "validation accuracy is : 0.2704\n",
      "Epoch  4, CIFAR-10 Batch 1:  loss is :  1.91082\n",
      "validation accuracy is : 0.3408\n",
      "Epoch  5, CIFAR-10 Batch 1:  loss is :  1.82789\n",
      "validation accuracy is : 0.3628\n",
      "Epoch  6, CIFAR-10 Batch 1:  loss is :  1.77057\n",
      "validation accuracy is : 0.3956\n",
      "Epoch  7, CIFAR-10 Batch 1:  loss is :  1.7137\n",
      "validation accuracy is : 0.4124\n",
      "Epoch  8, CIFAR-10 Batch 1:  loss is :  1.66017\n",
      "validation accuracy is : 0.4272\n",
      "Epoch  9, CIFAR-10 Batch 1:  loss is :  1.62103\n",
      "validation accuracy is : 0.4368\n",
      "Epoch 10, CIFAR-10 Batch 1:  loss is :  1.59305\n",
      "validation accuracy is : 0.4406\n",
      "Epoch 11, CIFAR-10 Batch 1:  loss is :  1.56429\n",
      "validation accuracy is : 0.4588\n",
      "Epoch 12, CIFAR-10 Batch 1:  loss is :  1.52862\n",
      "validation accuracy is : 0.4674\n",
      "Epoch 13, CIFAR-10 Batch 1:  loss is :  1.51373\n",
      "validation accuracy is : 0.4744\n",
      "Epoch 14, CIFAR-10 Batch 1:  loss is :  1.47588\n",
      "validation accuracy is : 0.476\n",
      "Epoch 15, CIFAR-10 Batch 1:  loss is :  1.44856\n",
      "validation accuracy is : 0.4818\n",
      "Epoch 16, CIFAR-10 Batch 1:  loss is :  1.41648\n",
      "validation accuracy is : 0.4902\n",
      "Epoch 17, CIFAR-10 Batch 1:  loss is :  1.394\n",
      "validation accuracy is : 0.498\n",
      "Epoch 18, CIFAR-10 Batch 1:  loss is :  1.35751\n",
      "validation accuracy is : 0.504\n",
      "Epoch 19, CIFAR-10 Batch 1:  loss is :  1.33816\n",
      "validation accuracy is : 0.5036\n",
      "Epoch 20, CIFAR-10 Batch 1:  loss is :  1.31317\n",
      "validation accuracy is : 0.5136\n",
      "Epoch 21, CIFAR-10 Batch 1:  loss is :  1.29617\n",
      "validation accuracy is : 0.5132\n",
      "Epoch 22, CIFAR-10 Batch 1:  loss is :  1.2679\n",
      "validation accuracy is : 0.5208\n",
      "Epoch 23, CIFAR-10 Batch 1:  loss is :  1.24262\n",
      "validation accuracy is : 0.5222\n",
      "Epoch 24, CIFAR-10 Batch 1:  loss is :  1.22409\n",
      "validation accuracy is : 0.53\n",
      "Epoch 25, CIFAR-10 Batch 1:  loss is :  1.2242\n",
      "validation accuracy is : 0.5308\n"
     ]
    }
   ],
   "source": [
    "\"\"\"\n",
    "DON'T MODIFY ANYTHING IN THIS CELL\n",
    "\"\"\"\n",
    "print('Checking the Training on a Single Batch...')\n",
    "with tf.Session() as sess:\n",
    "    # Initializing the variables\n",
    "    sess.run(tf.global_variables_initializer())\n",
    "    \n",
    "    # Training cycle\n",
    "    for epoch in range(epochs):\n",
    "        batch_i = 1\n",
    "        for batch_features, batch_labels in helper.load_preprocess_training_batch(batch_i, batch_size):\n",
    "            train_neural_network(sess, optimizer, keep_probability, batch_features, batch_labels)\n",
    "        print('Epoch {:>2}, CIFAR-10 Batch {}:  '.format(epoch + 1, batch_i), end='')\n",
    "        print_stats(sess, batch_features, batch_labels, cost, accuracy)"
   ]
  },
  {
   "cell_type": "markdown",
   "metadata": {
    "deletable": true,
    "editable": true
   },
   "source": [
    "### Fully Train the Model\n",
    "Now that you got a good accuracy with a single CIFAR-10 batch, try it with all five batches."
   ]
  },
  {
   "cell_type": "code",
   "execution_count": 39,
   "metadata": {
    "collapsed": false,
    "deletable": true,
    "editable": true
   },
   "outputs": [
    {
     "name": "stdout",
     "output_type": "stream",
     "text": [
      "Training...\n",
      "Epoch  1, CIFAR-10 Batch 1:  loss is :  2.2436\n",
      "validation accuracy is : 0.1984\n",
      "Epoch  1, CIFAR-10 Batch 2:  loss is :  2.14642\n",
      "validation accuracy is : 0.2698\n",
      "Epoch  1, CIFAR-10 Batch 3:  loss is :  2.00837\n",
      "validation accuracy is : 0.2866\n",
      "Epoch  1, CIFAR-10 Batch 4:  loss is :  1.87639\n",
      "validation accuracy is : 0.3578\n",
      "Epoch  1, CIFAR-10 Batch 5:  loss is :  1.85755\n",
      "validation accuracy is : 0.3556\n",
      "Epoch  2, CIFAR-10 Batch 1:  loss is :  1.82805\n",
      "validation accuracy is : 0.3872\n",
      "Epoch  2, CIFAR-10 Batch 2:  loss is :  1.72208\n",
      "validation accuracy is : 0.4024\n",
      "Epoch  2, CIFAR-10 Batch 3:  loss is :  1.59062\n",
      "validation accuracy is : 0.4026\n",
      "Epoch  2, CIFAR-10 Batch 4:  loss is :  1.60348\n",
      "validation accuracy is : 0.4324\n",
      "Epoch  2, CIFAR-10 Batch 5:  loss is :  1.6534\n",
      "validation accuracy is : 0.4312\n",
      "Epoch  3, CIFAR-10 Batch 1:  loss is :  1.64562\n",
      "validation accuracy is : 0.4532\n",
      "Epoch  3, CIFAR-10 Batch 2:  loss is :  1.57306\n",
      "validation accuracy is : 0.4562\n",
      "Epoch  3, CIFAR-10 Batch 3:  loss is :  1.42831\n",
      "validation accuracy is : 0.4542\n",
      "Epoch  3, CIFAR-10 Batch 4:  loss is :  1.44934\n",
      "validation accuracy is : 0.4794\n",
      "Epoch  3, CIFAR-10 Batch 5:  loss is :  1.51595\n",
      "validation accuracy is : 0.4808\n",
      "Epoch  4, CIFAR-10 Batch 1:  loss is :  1.55755\n",
      "validation accuracy is : 0.4808\n",
      "Epoch  4, CIFAR-10 Batch 2:  loss is :  1.49271\n",
      "validation accuracy is : 0.4858\n",
      "Epoch  4, CIFAR-10 Batch 3:  loss is :  1.28943\n",
      "validation accuracy is : 0.4874\n",
      "Epoch  4, CIFAR-10 Batch 4:  loss is :  1.3383\n",
      "validation accuracy is : 0.493\n",
      "Epoch  4, CIFAR-10 Batch 5:  loss is :  1.40391\n",
      "validation accuracy is : 0.5112\n",
      "Epoch  5, CIFAR-10 Batch 1:  loss is :  1.47043\n",
      "validation accuracy is : 0.5088\n",
      "Epoch  5, CIFAR-10 Batch 2:  loss is :  1.38034\n",
      "validation accuracy is : 0.5178\n",
      "Epoch  5, CIFAR-10 Batch 3:  loss is :  1.23112\n",
      "validation accuracy is : 0.507\n",
      "Epoch  5, CIFAR-10 Batch 4:  loss is :  1.25495\n",
      "validation accuracy is : 0.53\n",
      "Epoch  5, CIFAR-10 Batch 5:  loss is :  1.34222\n",
      "validation accuracy is : 0.525\n",
      "Epoch  6, CIFAR-10 Batch 1:  loss is :  1.39524\n",
      "validation accuracy is : 0.532\n",
      "Epoch  6, CIFAR-10 Batch 2:  loss is :  1.2957\n",
      "validation accuracy is : 0.5332\n",
      "Epoch  6, CIFAR-10 Batch 3:  loss is :  1.16551\n",
      "validation accuracy is : 0.529\n",
      "Epoch  6, CIFAR-10 Batch 4:  loss is :  1.18338\n",
      "validation accuracy is : 0.548\n",
      "Epoch  6, CIFAR-10 Batch 5:  loss is :  1.29382\n",
      "validation accuracy is : 0.5366\n",
      "Epoch  7, CIFAR-10 Batch 1:  loss is :  1.32812\n",
      "validation accuracy is : 0.5562\n",
      "Epoch  7, CIFAR-10 Batch 2:  loss is :  1.24832\n",
      "validation accuracy is : 0.5402\n",
      "Epoch  7, CIFAR-10 Batch 3:  loss is :  1.11374\n",
      "validation accuracy is : 0.5532\n",
      "Epoch  7, CIFAR-10 Batch 4:  loss is :  1.12821\n",
      "validation accuracy is : 0.562\n",
      "Epoch  7, CIFAR-10 Batch 5:  loss is :  1.22214\n",
      "validation accuracy is : 0.5642\n",
      "Epoch  8, CIFAR-10 Batch 1:  loss is :  1.29497\n",
      "validation accuracy is : 0.5648\n",
      "Epoch  8, CIFAR-10 Batch 2:  loss is :  1.20635\n",
      "validation accuracy is : 0.5506\n",
      "Epoch  8, CIFAR-10 Batch 3:  loss is :  1.06658\n",
      "validation accuracy is : 0.5666\n",
      "Epoch  8, CIFAR-10 Batch 4:  loss is :  1.07801\n",
      "validation accuracy is : 0.5788\n",
      "Epoch  8, CIFAR-10 Batch 5:  loss is :  1.17101\n",
      "validation accuracy is : 0.5792\n",
      "Epoch  9, CIFAR-10 Batch 1:  loss is :  1.26423\n",
      "validation accuracy is : 0.5778\n",
      "Epoch  9, CIFAR-10 Batch 2:  loss is :  1.1436\n",
      "validation accuracy is : 0.5702\n",
      "Epoch  9, CIFAR-10 Batch 3:  loss is :  1.02903\n",
      "validation accuracy is : 0.586\n",
      "Epoch  9, CIFAR-10 Batch 4:  loss is :  1.02037\n",
      "validation accuracy is : 0.5896\n",
      "Epoch  9, CIFAR-10 Batch 5:  loss is :  1.12785\n",
      "validation accuracy is : 0.5884\n",
      "Epoch 10, CIFAR-10 Batch 1:  loss is :  1.20253\n",
      "validation accuracy is : 0.5934\n",
      "Epoch 10, CIFAR-10 Batch 2:  loss is :  1.14794\n",
      "validation accuracy is : 0.5698\n",
      "Epoch 10, CIFAR-10 Batch 3:  loss is :  0.997726\n",
      "validation accuracy is : 0.594\n",
      "Epoch 10, CIFAR-10 Batch 4:  loss is :  0.979999\n",
      "validation accuracy is : 0.5974\n",
      "Epoch 10, CIFAR-10 Batch 5:  loss is :  1.08216\n",
      "validation accuracy is : 0.5978\n",
      "Epoch 11, CIFAR-10 Batch 1:  loss is :  1.18366\n",
      "validation accuracy is : 0.5942\n",
      "Epoch 11, CIFAR-10 Batch 2:  loss is :  1.0837\n",
      "validation accuracy is : 0.5934\n",
      "Epoch 11, CIFAR-10 Batch 3:  loss is :  0.956512\n",
      "validation accuracy is : 0.601\n",
      "Epoch 11, CIFAR-10 Batch 4:  loss is :  0.950432\n",
      "validation accuracy is : 0.6068\n",
      "Epoch 11, CIFAR-10 Batch 5:  loss is :  1.05373\n",
      "validation accuracy is : 0.609\n",
      "Epoch 12, CIFAR-10 Batch 1:  loss is :  1.14082\n",
      "validation accuracy is : 0.6058\n",
      "Epoch 12, CIFAR-10 Batch 2:  loss is :  1.05848\n",
      "validation accuracy is : 0.6022\n",
      "Epoch 12, CIFAR-10 Batch 3:  loss is :  0.934034\n",
      "validation accuracy is : 0.6064\n",
      "Epoch 12, CIFAR-10 Batch 4:  loss is :  0.930781\n",
      "validation accuracy is : 0.611\n",
      "Epoch 12, CIFAR-10 Batch 5:  loss is :  1.02263\n",
      "validation accuracy is : 0.6118\n",
      "Epoch 13, CIFAR-10 Batch 1:  loss is :  1.10952\n",
      "validation accuracy is : 0.6086\n",
      "Epoch 13, CIFAR-10 Batch 2:  loss is :  1.04021\n",
      "validation accuracy is : 0.6036\n",
      "Epoch 13, CIFAR-10 Batch 3:  loss is :  0.919275\n",
      "validation accuracy is : 0.613\n",
      "Epoch 13, CIFAR-10 Batch 4:  loss is :  0.907538\n",
      "validation accuracy is : 0.614\n",
      "Epoch 13, CIFAR-10 Batch 5:  loss is :  1.01011\n",
      "validation accuracy is : 0.6194\n",
      "Epoch 14, CIFAR-10 Batch 1:  loss is :  1.08711\n",
      "validation accuracy is : 0.614\n",
      "Epoch 14, CIFAR-10 Batch 2:  loss is :  1.00197\n",
      "validation accuracy is : 0.6178\n",
      "Epoch 14, CIFAR-10 Batch 3:  loss is :  0.904386\n",
      "validation accuracy is : 0.6136\n",
      "Epoch 14, CIFAR-10 Batch 4:  loss is :  0.875509\n",
      "validation accuracy is : 0.6262\n",
      "Epoch 14, CIFAR-10 Batch 5:  loss is :  0.977076\n",
      "validation accuracy is : 0.6282\n",
      "Epoch 15, CIFAR-10 Batch 1:  loss is :  1.05574\n",
      "validation accuracy is : 0.6222\n",
      "Epoch 15, CIFAR-10 Batch 2:  loss is :  0.986405\n",
      "validation accuracy is : 0.6156\n",
      "Epoch 15, CIFAR-10 Batch 3:  loss is :  0.864046\n",
      "validation accuracy is : 0.623\n",
      "Epoch 15, CIFAR-10 Batch 4:  loss is :  0.85726\n",
      "validation accuracy is : 0.6342\n",
      "Epoch 15, CIFAR-10 Batch 5:  loss is :  0.961077\n",
      "validation accuracy is : 0.628\n",
      "Epoch 16, CIFAR-10 Batch 1:  loss is :  1.04978\n",
      "validation accuracy is : 0.6214\n",
      "Epoch 16, CIFAR-10 Batch 2:  loss is :  0.969602\n",
      "validation accuracy is : 0.6198\n",
      "Epoch 16, CIFAR-10 Batch 3:  loss is :  0.855693\n",
      "validation accuracy is : 0.6296\n",
      "Epoch 16, CIFAR-10 Batch 4:  loss is :  0.849211\n",
      "validation accuracy is : 0.6302\n",
      "Epoch 16, CIFAR-10 Batch 5:  loss is :  0.961004\n",
      "validation accuracy is : 0.6262\n",
      "Epoch 17, CIFAR-10 Batch 1:  loss is :  1.02457\n",
      "validation accuracy is : 0.6312\n",
      "Epoch 17, CIFAR-10 Batch 2:  loss is :  0.931058\n",
      "validation accuracy is : 0.6292\n",
      "Epoch 17, CIFAR-10 Batch 3:  loss is :  0.826097\n",
      "validation accuracy is : 0.6364\n",
      "Epoch 17, CIFAR-10 Batch 4:  loss is :  0.820178\n",
      "validation accuracy is : 0.6404\n",
      "Epoch 17, CIFAR-10 Batch 5:  loss is :  0.912937\n",
      "validation accuracy is : 0.638\n",
      "Epoch 18, CIFAR-10 Batch 1:  loss is :  0.989164\n",
      "validation accuracy is : 0.6392\n",
      "Epoch 18, CIFAR-10 Batch 2:  loss is :  0.904296\n",
      "validation accuracy is : 0.6346\n",
      "Epoch 18, CIFAR-10 Batch 3:  loss is :  0.822659\n",
      "validation accuracy is : 0.6416\n",
      "Epoch 18, CIFAR-10 Batch 4:  loss is :  0.799543\n",
      "validation accuracy is : 0.6488\n",
      "Epoch 18, CIFAR-10 Batch 5:  loss is :  0.891475\n",
      "validation accuracy is : 0.6392\n",
      "Epoch 19, CIFAR-10 Batch 1:  loss is :  0.960378\n",
      "validation accuracy is : 0.6436\n",
      "Epoch 19, CIFAR-10 Batch 2:  loss is :  0.886594\n",
      "validation accuracy is : 0.6364\n",
      "Epoch 19, CIFAR-10 Batch 3:  loss is :  0.79126\n",
      "validation accuracy is : 0.649\n",
      "Epoch 19, CIFAR-10 Batch 4:  loss is :  0.785532\n",
      "validation accuracy is : 0.6476\n",
      "Epoch 19, CIFAR-10 Batch 5:  loss is :  0.881988\n",
      "validation accuracy is : 0.6446\n",
      "Epoch 20, CIFAR-10 Batch 1:  loss is :  0.935403\n",
      "validation accuracy is : 0.646\n",
      "Epoch 20, CIFAR-10 Batch 2:  loss is :  0.836075\n",
      "validation accuracy is : 0.6472\n",
      "Epoch 20, CIFAR-10 Batch 3:  loss is :  0.767238\n",
      "validation accuracy is : 0.6492\n",
      "Epoch 20, CIFAR-10 Batch 4:  loss is :  0.763291\n",
      "validation accuracy is : 0.653\n",
      "Epoch 20, CIFAR-10 Batch 5:  loss is :  0.86042\n",
      "validation accuracy is : 0.6524\n",
      "Epoch 21, CIFAR-10 Batch 1:  loss is :  0.930879\n",
      "validation accuracy is : 0.6474\n",
      "Epoch 21, CIFAR-10 Batch 2:  loss is :  0.847886\n",
      "validation accuracy is : 0.6468\n",
      "Epoch 21, CIFAR-10 Batch 3:  loss is :  0.752783\n",
      "validation accuracy is : 0.6602\n",
      "Epoch 21, CIFAR-10 Batch 4:  loss is :  0.752368\n",
      "validation accuracy is : 0.6562\n",
      "Epoch 21, CIFAR-10 Batch 5:  loss is :  0.838756\n",
      "validation accuracy is : 0.6542\n",
      "Epoch 22, CIFAR-10 Batch 1:  loss is :  0.91605\n",
      "validation accuracy is : 0.6476\n",
      "Epoch 22, CIFAR-10 Batch 2:  loss is :  0.823579\n",
      "validation accuracy is : 0.6474\n",
      "Epoch 22, CIFAR-10 Batch 3:  loss is :  0.74688\n",
      "validation accuracy is : 0.654\n",
      "Epoch 22, CIFAR-10 Batch 4:  loss is :  0.737707\n",
      "validation accuracy is : 0.6562\n",
      "Epoch 22, CIFAR-10 Batch 5:  loss is :  0.820177\n",
      "validation accuracy is : 0.6552\n",
      "Epoch 23, CIFAR-10 Batch 1:  loss is :  0.886172\n",
      "validation accuracy is : 0.6592\n",
      "Epoch 23, CIFAR-10 Batch 2:  loss is :  0.815256\n",
      "validation accuracy is : 0.6532\n",
      "Epoch 23, CIFAR-10 Batch 3:  loss is :  0.744942\n",
      "validation accuracy is : 0.6538\n",
      "Epoch 23, CIFAR-10 Batch 4:  loss is :  0.715489\n",
      "validation accuracy is : 0.6628\n",
      "Epoch 23, CIFAR-10 Batch 5:  loss is :  0.789993\n",
      "validation accuracy is : 0.6616\n",
      "Epoch 24, CIFAR-10 Batch 1:  loss is :  0.879932\n",
      "validation accuracy is : 0.6574\n",
      "Epoch 24, CIFAR-10 Batch 2:  loss is :  0.797293\n",
      "validation accuracy is : 0.662\n",
      "Epoch 24, CIFAR-10 Batch 3:  loss is :  0.751444\n",
      "validation accuracy is : 0.6508\n",
      "Epoch 24, CIFAR-10 Batch 4:  loss is :  0.715961\n",
      "validation accuracy is : 0.6608\n",
      "Epoch 24, CIFAR-10 Batch 5:  loss is :  0.782101\n",
      "validation accuracy is : 0.6616\n",
      "Epoch 25, CIFAR-10 Batch 1:  loss is :  0.853031\n",
      "validation accuracy is : 0.662\n",
      "Epoch 25, CIFAR-10 Batch 2:  loss is :  0.77435\n",
      "validation accuracy is : 0.6684\n",
      "Epoch 25, CIFAR-10 Batch 3:  loss is :  0.696797\n",
      "validation accuracy is : 0.6688\n",
      "Epoch 25, CIFAR-10 Batch 4:  loss is :  0.687822\n",
      "validation accuracy is : 0.6692\n",
      "Epoch 25, CIFAR-10 Batch 5:  loss is :  0.789468\n",
      "validation accuracy is : 0.6628\n"
     ]
    }
   ],
   "source": [
    "\"\"\"\n",
    "DON'T MODIFY ANYTHING IN THIS CELL\n",
    "\"\"\"\n",
    "save_model_path = './image_classification'\n",
    "\n",
    "print('Training...')\n",
    "with tf.Session() as sess:\n",
    "    # Initializing the variables\n",
    "    sess.run(tf.global_variables_initializer())\n",
    "    \n",
    "    # Training cycle\n",
    "    for epoch in range(epochs):\n",
    "        # Loop over all batches\n",
    "        n_batches = 5\n",
    "        for batch_i in range(1, n_batches + 1):\n",
    "            for batch_features, batch_labels in helper.load_preprocess_training_batch(batch_i, batch_size):\n",
    "                train_neural_network(sess, optimizer, keep_probability, batch_features, batch_labels)\n",
    "            print('Epoch {:>2}, CIFAR-10 Batch {}:  '.format(epoch + 1, batch_i), end='')\n",
    "            print_stats(sess, batch_features, batch_labels, cost, accuracy)\n",
    "            \n",
    "    # Save Model\n",
    "    saver = tf.train.Saver()\n",
    "    save_path = saver.save(sess, save_model_path)"
   ]
  },
  {
   "cell_type": "markdown",
   "metadata": {
    "deletable": true,
    "editable": true
   },
   "source": [
    "# Checkpoint\n",
    "The model has been saved to disk.\n",
    "## Test Model\n",
    "Test your model against the test dataset.  This will be your final accuracy. You should have an accuracy greater than 50%. If you don't, keep tweaking the model architecture and parameters."
   ]
  },
  {
   "cell_type": "code",
   "execution_count": 40,
   "metadata": {
    "collapsed": false,
    "deletable": true,
    "editable": true
   },
   "outputs": [
    {
     "name": "stdout",
     "output_type": "stream",
     "text": [
      "Testing Accuracy: 0.6581341922283173\n",
      "\n"
     ]
    },
    {
     "data": {
      "image/png": "[encoded data removed]",
      "text/plain": [
       "<matplotlib.figure.Figure at 0x7faa8c34da90>"
      ]
     },
     "metadata": {
      "image/png": {
       "height": 319,
       "width": 355
      }
     },
     "output_type": "display_data"
    }
   ],
   "source": [
    "\"\"\"\n",
    "DON'T MODIFY ANYTHING IN THIS CELL\n",
    "\"\"\"\n",
    "%matplotlib inline\n",
    "%config InlineBackend.figure_format = 'retina'\n",
    "\n",
    "import tensorflow as tf\n",
    "import pickle\n",
    "import helper\n",
    "import random\n",
    "\n",
    "# Set batch size if not already set\n",
    "try:\n",
    "    if batch_size:\n",
    "        pass\n",
    "except NameError:\n",
    "    batch_size = 64\n",
    "\n",
    "save_model_path = './image_classification'\n",
    "n_samples = 4\n",
    "top_n_predictions = 3\n",
    "\n",
    "def test_model():\n",
    "    \"\"\"\n",
    "    Test the saved model against the test dataset\n",
    "    \"\"\"\n",
    "\n",
    "    test_features, test_labels = pickle.load(open('preprocess_training.p', mode='rb'))\n",
    "    loaded_graph = tf.Graph()\n",
    "\n",
    "    with tf.Session(graph=loaded_graph) as sess:\n",
    "        # Load model\n",
    "        loader = tf.train.import_meta_graph(save_model_path + '.meta')\n",
    "        loader.restore(sess, save_model_path)\n",
    "\n",
    "        # Get Tensors from loaded model\n",
    "        loaded_x = loaded_graph.get_tensor_by_name('x:0')\n",
    "        loaded_y = loaded_graph.get_tensor_by_name('y:0')\n",
    "        loaded_keep_prob = loaded_graph.get_tensor_by_name('keep_prob:0')\n",
    "        loaded_logits = loaded_graph.get_tensor_by_name('logits:0')\n",
    "        loaded_acc = loaded_graph.get_tensor_by_name('accuracy:0')\n",
    "        \n",
    "        # Get accuracy in batches for memory limitations\n",
    "        test_batch_acc_total = 0\n",
    "        test_batch_count = 0\n",
    "        \n",
    "        for train_feature_batch, train_label_batch in helper.batch_features_labels(test_features, test_labels, batch_size):\n",
    "            test_batch_acc_total += sess.run(\n",
    "                loaded_acc,\n",
    "                feed_dict={loaded_x: train_feature_batch, loaded_y: train_label_batch, loaded_keep_prob: 1.0})\n",
    "            test_batch_count += 1\n",
    "\n",
    "        print('Testing Accuracy: {}\\n'.format(test_batch_acc_total/test_batch_count))\n",
    "\n",
    "        # Print Random Samples\n",
    "        random_test_features, random_test_labels = tuple(zip(*random.sample(list(zip(test_features, test_labels)), n_samples)))\n",
    "        random_test_predictions = sess.run(\n",
    "            tf.nn.top_k(tf.nn.softmax(loaded_logits), top_n_predictions),\n",
    "            feed_dict={loaded_x: random_test_features, loaded_y: random_test_labels, loaded_keep_prob: 1.0})\n",
    "        helper.display_image_predictions(random_test_features, random_test_labels, random_test_predictions)\n",
    "\n",
    "\n",
    "test_model()"
   ]
  },
  {
   "cell_type": "markdown",
   "metadata": {
    "deletable": true,
    "editable": true
   },
   "source": [
    "## Why 50-70% Accuracy?\n",
    "You might be wondering why you can't get an accuracy any higher. First things first, 50% isn't bad for a simple CNN.  Pure guessing would get you 10% accuracy. However, you might notice people are getting scores [well above 70%](http://rodrigob.github.io/are_we_there_yet/build/classification_datasets_results.html#43494641522d3130).  That's because we haven't taught you all there is to know about neural networks. We still need to cover a few more techniques.\n",
    "## Submitting This Project\n",
    "When submitting this project, make sure to run all the cells before saving the notebook.  Save the notebook file as \"dlnd_image_classification.ipynb\" and save it as a HTML file under \"File\" -> \"Download as\".  Include the \"helper.py\" and \"problem_unittests.py\" files in your submission."
   ]
  }
 ],
 "metadata": {
  "kernelspec": {
   "display_name": "Python 3",
   "language": "python",
   "name": "python3"
  },
  "language_info": {
   "codemirror_mode": {
    "name": "ipython",
    "version": 3
   },
   "file_extension": ".py",
   "mimetype": "text/x-python",
   "name": "python",
   "nbconvert_exporter": "python",
   "pygments_lexer": "ipython3",
   "version": "3.5.3"
  }
 },
 "nbformat": 4,
 "nbformat_minor": 0
}
