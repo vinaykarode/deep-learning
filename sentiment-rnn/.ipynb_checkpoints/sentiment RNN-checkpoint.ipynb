{
 "cells": [
  {
   "cell_type": "code",
   "execution_count": 13,
   "metadata": {
    "collapsed": true
   },
   "outputs": [],
   "source": [
    "import numpy as np\n",
    "import tensorflow as tf"
   ]
  },
  {
   "cell_type": "code",
   "execution_count": 14,
   "metadata": {
    "collapsed": false
   },
   "outputs": [
    {
     "data": {
      "text/plain": [
       "'positive\\nnegative\\npositive\\nnegative\\npositive\\nnegative\\npositive\\nnegative\\npositive\\nnegative\\npositive\\nn'"
      ]
     },
     "execution_count": 14,
     "metadata": {},
     "output_type": "execute_result"
    }
   ],
   "source": [
    "with open('reviews.txt','r') as f:\n",
    "    reviews = f.read()\n",
    "with open('labels.txt','r') as f:\n",
    "    labels = f.read()\n",
    "reviews[:2000]\n",
    "labels[:100]\n"
   ]
  },
  {
   "cell_type": "code",
   "execution_count": 15,
   "metadata": {
    "collapsed": false
   },
   "outputs": [
    {
     "data": {
      "text/plain": [
       "['bromwell high is a cartoon comedy  it ran at the same time as some other programs about school life  such as  teachers   my   years in the teaching profession lead me to believe that bromwell high  s satire is much closer to reality than is  teachers   the scramble to survive financially  the insightful students who can see right through their pathetic teachers  pomp  the pettiness of the whole situation  all remind me of the schools i knew and their students  when i saw the episode in which a student repeatedly tried to burn down the school  i immediately recalled          at           high  a classic line inspector i  m here to sack one of your teachers  student welcome to bromwell high  i expect that many adults of my age think that bromwell high is far fetched  what a pity that it isn  t   ',\n",
       " 'story of a man who has unnatural feelings for a pig  starts out with a opening scene that is a terrific example of absurd comedy  a formal orchestra audience is turned into an insane  violent mob by the crazy chantings of it  s singers  unfortunately it stays absurd the whole time with no general narrative eventually making it just too off putting  even those from the era should be turned off  the cryptic dialogue would make shakespeare seem easy to a third grader  on a technical level it  s better than you might think with some good cinematography by future great vilmos zsigmond  future stars sally kirkland and frederic forrest can be seen briefly   ',\n",
       " 'homelessness  or houselessness as george carlin stated  has been an issue for years but never a plan to help those on the street that were once considered human who did everything from going to school  work  or vote for the matter  most people think of the homeless as just a lost cause while worrying about things such as racism  the war on iraq  pressuring kids to succeed  technology  the elections  inflation  or worrying if they  ll be next to end up on the streets   br    br   but what if you were given a bet to live on the streets for a month without the luxuries you once had from a home  the entertainment sets  a bathroom  pictures on the wall  a computer  and everything you once treasure to see what it  s like to be homeless  that is goddard bolt  s lesson   br    br   mel brooks  who directs  who stars as bolt plays a rich man who has everything in the world until deciding to make a bet with a sissy rival  jeffery tambor  to see if he can live in the streets for thirty days without the luxuries if bolt succeeds  he can do what he wants with a future project of making more buildings  the bet  s on where bolt is thrown on the street with a bracelet on his leg to monitor his every move where he can  t step off the sidewalk  he  s given the nickname pepto by a vagrant after it  s written on his forehead where bolt meets other characters including a woman by the name of molly  lesley ann warren  an ex  dancer who got divorce before losing her home  and her pals sailor  howard morris  and fumes  teddy wilson  who are already used to the streets  they  re survivors  bolt isn  t  he  s not used to reaching mutual agreements like he once did when being rich where it  s fight or flight  kill or be killed   br    br   while the love connection between molly and bolt wasn  t necessary to plot  i found  life stinks  to be one of mel brooks  observant films where prior to being a comedy  it shows a tender side compared to his slapstick work such as blazing saddles  young frankenstein  or spaceballs for the matter  to show what it  s like having something valuable before losing it the next day or on the other hand making a stupid bet like all rich people do when they don  t know what to do with their money  maybe they should give it to the homeless instead of using it like monopoly money   br    br   or maybe this film will inspire you to help others   ']"
      ]
     },
     "execution_count": 15,
     "metadata": {},
     "output_type": "execute_result"
    }
   ],
   "source": [
    "from string import punctuation\n",
    "all_text = ''.join([c for c in reviews if c not in punctuation])\n",
    "reviews = all_text.split('\\n')\n",
    "all_text = ''.join(reviews)\n",
    "words = all_text.split()\n",
    "reviews[:3]"
   ]
  },
  {
   "cell_type": "code",
   "execution_count": 21,
   "metadata": {
    "collapsed": false
   },
   "outputs": [
    {
     "name": "stdout",
     "output_type": "stream",
     "text": [
      "[[21547, 308, 6, 3, 1050, 207, 8, 2139, 32, 1, 171, 57, 15, 49, 81, 5800, 44, 382, 110, 140, 15, 5238, 60, 154, 9, 1, 5003, 5874, 475, 71, 5, 260, 12, 21547, 308, 13, 1978, 6, 74, 2395, 5, 614, 73, 6, 5238, 1, 25910, 5, 1985, 10181, 1, 5789, 1499, 36, 51, 66, 204, 145, 67, 1203, 5238, 20848, 1, 43096, 4, 1, 221, 883, 31, 2994, 71, 4, 1, 5832, 10, 686, 2, 67, 1499, 54, 10, 216, 1, 384, 9, 62, 3, 1406, 3706, 783, 5, 3501, 180, 1, 382, 10, 1213, 13855, 32, 308, 3, 349, 341, 2928, 10, 143, 127, 5, 7769, 30, 4, 129, 5238, 1406, 2326, 5, 21547, 308, 10, 528, 12, 109, 1450, 4, 60, 543, 102, 12, 21547, 308, 6, 227, 4172, 48, 3, 2215, 12, 8, 215, 23], [63, 4, 3, 125, 36, 47, 7531, 1395, 16, 3, 4198, 505, 45, 17, 3, 622, 134, 12, 6, 3, 1279, 457, 4, 1721, 207, 3, 10786, 7404, 300, 6, 667, 83, 35, 2118, 1088, 2988, 34, 1, 898, 51227, 4, 8, 13, 5124, 464, 8, 2659, 1721, 1, 221, 57, 17, 58, 794, 1297, 832, 228, 8, 43, 98, 123, 1470, 59, 147, 38, 1, 963, 142, 29, 667, 123, 1, 13765, 410, 61, 95, 1779, 306, 756, 5, 3, 819, 10525, 22, 3, 1727, 635, 8, 13, 128, 73, 21, 233, 102, 17, 49, 50, 617, 34, 683, 85, 30752, 31958, 683, 374, 3353, 11631, 2, 16671, 8041, 51, 29, 108, 3330], [22454, 42, 53757, 15, 707, 17360, 3395, 47, 77, 35, 1819, 16, 154, 19, 114, 3, 1306, 5, 336, 147, 22, 1, 857, 12, 70, 281, 1168, 399, 36, 120, 283, 38, 169, 5, 382, 158, 42, 2278, 16, 1, 541, 90, 78, 102, 4, 1, 3246, 15, 43, 3, 407, 1068, 136, 8132, 44, 182, 140, 15, 3048, 1, 320, 22, 4841, 28580, 346, 5, 3092, 2095, 1, 19422, 18325, 42, 8132, 46, 33, 236, 29, 370, 5, 130, 56, 22, 1, 1930, 7, 7, 19, 48, 46, 21, 70, 344, 3, 2103, 5, 408, 22, 1, 1930, 16, 3, 3124, 205, 1, 31871, 21, 281, 68, 38, 3, 339, 1, 700, 715, 3, 3826, 1234, 22, 1, 1491, 3, 1197, 2, 283, 21, 281, 2446, 5, 66, 48, 8, 13, 39, 5, 29, 3246, 12, 6, 21522, 11733, 13, 2021, 7, 7, 3688, 2831, 36, 4173, 36, 374, 15, 11733, 296, 3, 996, 125, 36, 47, 283, 9, 1, 176, 363, 6958, 5, 95, 3, 2103, 17, 3, 4990, 2936, 14706, 20440, 5, 66, 46, 25, 51, 408, 9, 1, 1930, 16, 3242, 490, 205, 1, 31871, 46, 11733, 2862, 25, 51, 80, 48, 25, 483, 17, 3, 683, 1152, 4, 228, 52, 4471, 1, 2103, 13, 22, 118, 11733, 6, 1347, 22, 1, 857, 17, 3, 19675, 22, 27, 3879, 5, 10370, 27, 174, 829, 118, 25, 51, 23, 1458, 123, 1, 6491, 25, 13, 344, 1, 13666, 30391, 34, 3, 35726, 101, 8, 13, 391, 22, 27, 11841, 118, 11733, 874, 81, 103, 577, 3, 240, 34, 1, 393, 4, 4661, 16471, 1816, 3741, 35, 1202, 3107, 36, 188, 4056, 160, 2287, 41, 339, 2, 41, 8917, 6814, 1989, 4353, 2, 31451, 8848, 2463, 36, 26, 454, 338, 5, 1, 1930, 33, 155, 4248, 11733, 215, 23, 25, 13, 24, 338, 5, 4440, 5911, 29890, 39, 25, 281, 120, 54, 111, 996, 118, 8, 13, 535, 42, 2718, 501, 42, 29, 547, 7, 7, 136, 1, 115, 2004, 198, 4661, 2, 11733, 285, 23, 1645, 5, 112, 10, 254, 110, 4371, 5, 29, 30, 4, 3688, 2831, 16069, 107, 118, 2529, 5, 111, 3, 207, 8, 286, 3, 4252, 488, 1062, 5, 27, 2732, 158, 140, 15, 7519, 11681, 184, 4558, 42, 19590, 16, 1, 541, 5, 121, 48, 8, 13, 39, 255, 141, 4536, 160, 2287, 8, 1, 370, 245, 42, 22, 1, 81, 495, 228, 3, 372, 2103, 39, 31, 996, 78, 80, 54, 33, 89, 23, 122, 48, 5, 80, 17, 67, 273, 277, 33, 142, 200, 8, 5, 1, 3246, 303, 4, 757, 8, 39, 17671, 273, 7, 7, 42, 277, 11, 20, 79, 5883, 21, 5, 336, 400], [4535, 505, 15, 3, 3347, 162, 8333, 1654, 6, 4833, 56, 17, 4536, 5628, 140, 11797, 5, 996, 4937, 2933, 4462, 566, 1204, 36, 6, 1519, 96, 3, 744, 4, 27360, 13, 5, 27, 3479, 9, 10627, 4, 8, 111, 3018, 5, 1, 1028, 15, 3, 4407, 82, 22, 2049, 6, 4462, 538, 2773, 7095, 41510, 41, 463, 1, 8333, 49953, 302, 123, 15, 4224, 19, 1670, 923, 1, 1654, 6, 6185, 20199, 34, 1, 980, 1760, 22746, 646, 26182, 27, 106, 11884, 13, 14486, 15199, 18120, 2463, 466, 22317, 36, 3272, 1, 6403, 1020, 45, 17, 2705, 2506, 33, 1306, 5, 2079, 1, 4536, 11845, 1493, 22, 3, 21272, 1654, 3205, 22, 35, 4326, 1067, 19, 136, 228, 27, 4691, 22746, 217, 1910, 35, 3218, 17804, 9, 1, 4174, 1963, 1110, 4, 1, 1654, 5655, 8, 6560, 83, 1, 1959, 118, 8, 8104, 5, 1, 1302, 204, 3989, 9, 1, 641, 4, 1, 32814, 5872, 17, 923, 9, 343, 6248, 1047, 31792, 9, 255, 15702, 119, 1987, 123, 259, 1, 695, 12333, 16, 1, 4844, 13, 15, 33, 12743, 336, 17, 57, 688, 609, 45, 7, 7, 82, 560, 458, 1, 1056, 271, 31433, 4535, 11, 330, 736, 5, 1, 6731, 557, 1665, 690, 4535, 14, 516, 34, 1439, 9198, 136, 281, 173, 39, 8, 13, 8409, 10, 51, 23, 133, 4535, 6, 100, 428, 4, 1531, 349, 8, 6, 440, 256, 24, 2693, 16, 1, 204, 987, 45, 4, 1, 287, 4535, 107, 10, 28, 108, 37, 227, 10, 165, 418, 11, 30, 1, 117, 43, 8, 47, 60, 1621, 112, 4, 1, 287, 17, 3, 324, 1670, 923, 6185, 36757, 93, 1, 6560, 161, 23, 25, 66, 1, 3218, 17804, 6280, 4, 1, 277, 1, 1155, 70, 264, 5, 1640, 1, 201, 4535, 17, 159, 1044, 1665, 494, 4, 1, 791, 1, 32783, 1115, 19103, 6, 118, 8, 2659, 363, 1, 130, 17, 3, 5249, 6330, 4400, 147, 2589, 982, 342, 38570, 54, 1, 923, 1106, 45, 42, 10967, 15, 1, 25561, 42, 46, 100, 4, 1, 3550, 26, 3018, 8, 13, 3, 531, 322, 12, 97, 28, 91, 16, 3, 85, 116, 1665, 494, 19, 76, 6883, 104, 13, 739, 410, 12090, 265, 1298, 3, 146, 574, 4, 2331, 42, 817, 42, 1054, 800, 11, 6, 3, 1026, 1400, 136, 1, 246, 12914, 112, 919, 30, 2150, 16, 1007, 229, 24, 12, 74, 559, 101, 1, 1654, 8104, 40, 13, 24, 15, 74, 8889, 15, 10, 195, 40, 142, 28, 77, 59, 54, 1, 2918, 409, 562, 182, 89, 23, 1237, 56, 12, 74, 17, 3, 170, 649, 4, 653, 5117, 10865, 1519, 44, 19, 40, 13, 43, 141, 1872, 127, 707, 4022, 15, 1, 41159, 12368, 3448, 865, 43838, 6, 144, 19, 64, 211, 3, 369, 4, 137, 1177, 59, 549, 231, 16527, 5, 43, 167, 3749, 9, 1, 958, 7, 7, 1, 339, 366, 2224, 310, 4, 4535, 507, 229, 136, 1, 178, 242, 2035, 748, 35, 1688, 522, 4, 909, 577, 3, 162, 622, 878, 703, 109, 52, 137, 17, 707, 4022, 15, 43838, 2123, 5, 2083, 45, 104, 13, 1184, 2202, 137, 1, 3788, 42, 159, 369, 4, 340, 2311, 577, 1, 37150, 136, 10, 61, 39, 5, 66, 11, 1688, 909, 10, 239, 24, 249, 10, 97, 848, 145, 3, 734, 287, 522, 584, 4, 4535, 15, 853, 1, 20, 47, 1936, 891, 17, 517, 7860, 7388, 1572, 2810, 10, 79, 133, 58, 52, 81, 73, 1, 2833, 1654, 2116, 298, 696, 23, 85, 342, 364, 17, 1, 81, 106, 4535, 2262, 11, 302, 3079, 4, 269, 9, 1, 10771, 1317, 13, 2281, 4, 879, 256, 10, 51, 102, 4, 761, 4, 429, 107, 73, 11, 37, 10, 10896, 12, 13, 3, 116, 2461, 1, 202, 137, 26, 3, 116, 739, 464, 1, 1040, 6, 539, 24, 74, 2284, 42, 1054, 6, 4821, 62, 6, 3, 879, 15, 10, 10896, 11, 97, 28, 77, 3, 183, 50, 20, 46, 91, 2861, 7, 7, 1, 360, 1205, 26, 2626, 46, 163, 2075, 1, 113, 215, 23, 85, 106, 57, 708, 2190, 669, 3984, 47, 301, 234, 8, 14, 3, 1294, 5, 318, 9, 11, 30, 57, 708, 2190, 566, 1204, 268, 153, 11267, 82, 30, 57, 708, 2190, 743, 1976, 268, 1793, 136, 2652, 1331, 743, 6, 344, 116, 5, 80, 40, 26, 937, 4, 81, 1060, 1562, 5, 167, 45, 16, 98, 7, 7, 4535, 6, 1, 90, 1665, 21870, 4, 1, 287, 4535, 107, 37, 227, 10, 418, 1, 989, 486, 8, 59, 46, 33, 70, 3, 223, 694, 1, 360, 1889, 451, 151, 23, 336, 150, 3, 20, 44, 3, 15901, 1654, 43, 1588, 23, 29, 11, 354, 42, 12090, 1459, 34, 1, 24032, 4535], [520, 119, 113, 34, 16471, 1816, 3741, 117, 885, 21151, 721, 10, 28, 124, 108, 2, 115, 137, 9, 1623, 7743, 26, 330, 5, 589, 1, 6180, 22, 386, 6, 3, 349, 15, 50, 15, 231, 9, 7519, 11681, 1, 191, 22, 8970, 6, 82, 881, 101, 111, 3605, 4, 111, 3, 30168, 3451, 45, 27, 1328, 2, 111, 12683, 1, 2371, 4, 30391, 11733, 25660, 32517, 10, 143, 3, 2371, 25, 549, 287, 164, 697, 4039, 20440, 3, 502, 38, 1, 299, 2645, 6536, 121, 6, 759, 127, 98, 15, 3, 1136, 5106, 36, 483, 5, 4189, 1, 6649, 27, 104, 6, 52, 10396, 73, 630, 1, 1518, 134, 2, 1, 134, 118, 1, 3246, 17505, 3, 14419, 2104, 26, 31, 57, 2180, 167, 16, 1, 2957, 134, 2, 1, 106, 192, 16292, 976, 30, 25181, 11, 18, 211, 128, 253, 57, 10, 66, 8, 62, 6, 179, 397], [11, 20, 3647, 141, 10, 422, 23, 272, 60, 4384, 22, 32, 84, 3300, 22, 1, 172, 4, 1, 952, 506, 11, 4992, 5392, 5, 574, 4, 1154, 54, 53, 5343, 1, 261, 17, 41, 952, 125, 59, 1, 711, 137, 379, 627, 15, 111, 1510, 1, 156, 32, 292, 8, 97, 55, 72, 28, 77, 1, 157, 36, 42890, 48, 25, 872, 38, 1, 156, 10, 43, 89, 23, 122, 7, 7, 19, 97, 8, 28, 77, 1, 861, 43, 605, 36, 14, 1, 8963, 9, 115, 17, 25, 460, 52, 15447, 4, 27, 30284, 1937, 2, 3695, 2, 1092, 4, 309, 2, 27, 6140, 6126, 73, 4, 1704, 42, 231, 326, 25, 114, 2313, 71, 25, 14, 9, 115, 17, 1, 2487, 7, 7, 10, 14, 672, 9, 11, 18, 19, 89, 23, 836, 8, 14, 2270, 16, 35, 708, 37, 1859, 16, 610], [11, 6, 692, 1, 90, 2157, 20, 11918, 1, 2831, 5196, 249, 92, 3007, 8, 126, 24, 200, 3, 802, 634, 4, 22454, 1002, 133, 87, 3545, 3341, 509, 3, 802, 634, 4, 16611, 5124, 42, 2563, 509, 3, 802, 634, 4, 9116, 21, 3722, 109, 4, 1, 624, 787, 1011, 19, 131, 11, 20, 6, 55, 3187, 9, 3, 94, 109, 1261, 26, 24, 2, 5, 1573, 12, 123, 9, 3, 63, 44, 49, 4, 1, 90, 11731, 23364, 1039, 4, 876, 6, 365, 1133, 92, 24, 1, 3452, 607, 19, 92, 24, 582, 342, 60, 64, 3270, 6, 12, 2831, 142, 28, 177, 279, 326, 9, 1, 475, 10, 115, 3688, 15, 3, 157, 2, 533, 24, 37, 74, 15, 3, 475], [786, 295, 10, 122, 11, 6, 419, 5, 29, 35, 482, 20, 19, 1281, 33, 142, 28, 2662, 45, 1841, 32, 1, 2792, 37, 78, 97, 2440, 67, 3969, 45, 2, 24, 105, 256, 1, 134, 1572, 2, 12490, 451, 14, 319, 11, 63, 6, 98, 1322, 5, 105, 1, 3771, 4, 3, 472, 1381, 14, 1738, 1, 73733, 649, 70, 98, 194, 87, 194, 51, 21, 105, 106, 78, 43, 1240, 40, 2, 642, 257, 54, 1, 410, 6, 106, 78, 5247, 10, 65, 68, 3, 250, 57, 43, 390, 145, 11, 20, 1, 351, 70, 319, 19, 87, 74, 4, 12, 453, 14691, 3598, 529, 51, 21, 191, 1, 64, 152, 10, 418, 14, 7148, 15017, 2, 41, 737, 2685, 2, 1074, 134, 880, 11, 14, 3, 7479, 4, 4397, 2, 10, 143, 58, 331, 1311, 27, 342, 10, 102, 251, 36, 549, 33, 499, 620, 4, 11, 6, 72, 3158], [11, 6, 24, 1, 779, 3688, 2831, 20, 8, 14, 74, 325, 2732, 73, 90, 4, 27, 99, 2, 165, 68, 3, 112, 12, 14, 30432, 2782, 1816, 3741, 91, 1, 18, 53, 6, 140, 3, 759, 458, 1124, 506, 40, 70, 49, 381, 12, 97, 28, 77, 6582, 45, 3, 223, 52, 2, 49, 137, 12, 97, 238, 28, 77, 584, 5, 95, 1, 654, 5, 80, 37, 19, 31, 9, 31, 11, 6, 288, 1, 1786, 5, 831, 2, 66, 8, 1, 113, 14, 50, 442, 2831, 309, 120, 3, 50, 289, 205, 27, 7661, 1365, 5, 2519, 5, 1, 300, 173, 3741, 14, 1, 117, 270, 9, 1, 18, 19, 39914, 2, 6814, 197, 252, 67, 521, 72], [54, 10, 14, 116, 60, 798, 552, 71, 364, 5, 1, 730, 5, 66, 8139, 8, 14, 30, 4, 109, 99, 10, 293, 17, 60, 798, 19, 11, 14, 1, 64, 30, 69, 2500, 45, 4, 234, 93, 10, 68, 114, 108, 8139, 363, 43, 1009, 2, 10, 97, 28, 1431, 45, 1, 357, 4, 60, 110, 205, 8, 48, 3, 1928, 11107, 2, 2127, 354, 412, 4, 13, 6685, 2, 2975, 5171, 2125, 1366, 6, 30, 4, 60, 502, 875, 19, 8139, 6, 34, 227, 1, 247, 412, 4, 582, 4, 27, 599, 9, 1, 13907, 395, 4, 14554, 16708, 1366, 403, 178, 3, 453, 21397, 9034, 2609, 9, 5, 1, 450, 4, 3, 212, 11755, 34, 1, 1950, 3998, 2152, 34, 4056, 23472, 599, 115, 682, 115, 72084, 824, 1, 20, 4630, 47, 58, 680, 2114, 58, 224, 2, 6, 14310, 9, 9523, 6835, 11, 20, 395, 51, 29, 117, 4767, 15, 12922, 9, 851, 757, 35, 25608, 4159, 4, 410, 5, 14174, 3, 52, 10125, 1114, 4, 1191, 2, 854, 19, 2125, 1366, 6, 58, 14554, 4397, 1, 20, 6, 2127, 539, 2, 739, 19, 705, 12, 10, 328, 68, 58, 2004, 17, 42, 2470, 16, 100, 4, 1, 103, 303, 10, 416, 64, 6038, 16, 11, 5192, 4, 18031, 6579, 30448, 15903, 31769, 9, 3, 11803, 2655, 16, 2020, 8462, 3, 4105, 4, 23328, 45265, 2, 8168, 41845, 29421, 1, 63, 20301, 39, 3, 7410, 9, 1, 654, 295, 2447, 9, 3855, 17076, 2, 11029, 1073, 198, 10942, 295, 6, 407, 2, 2484, 1644, 5, 168, 451, 42, 1887, 42, 824, 2, 8, 43, 266, 22, 2, 22, 5, 1, 210, 118, 21, 43, 181, 5, 3626, 31, 4, 96, 8, 13, 114, 44, 3430, 8, 13, 64, 44, 9796, 13640, 13298, 8, 6, 163, 52, 73, 3, 1950, 448, 613, 5, 35, 1539, 705, 1, 300, 13, 1230, 5, 3764, 2125, 1366, 2444, 5, 95, 103, 37, 9402, 9, 525, 69, 230, 313, 45, 2, 16, 12, 284, 10, 254, 11, 18, 2127, 524, 5050, 2, 17975, 13627, 10, 66, 48, 25, 14, 169, 16, 19, 27, 13559, 22, 8533, 27, 729, 145, 24169, 16343, 2, 8311, 20, 3340, 34188, 8, 491, 1, 210, 4, 7108, 10, 534, 380, 11, 30, 46, 21, 155, 537, 3, 116, 98, 633, 2, 355, 141, 5, 2994, 21, 4, 333, 880, 278, 13, 43, 3886, 11, 20, 114, 563]]\n"
     ]
    }
   ],
   "source": [
    "from collections import Counter\n",
    "counts = Counter(words)\n",
    "vocab = sorted(counts, key=counts.get, reverse=True)\n",
    "vocab_to_int = { word:i for i, word in enumerate(vocab,1)}\n",
    "reviews_ints=[]\n",
    "for r in reviews:\n",
    "    reviews_ints.append([vocab_to_int[w] for w in r.split()])\n",
    "print(reviews_ints[:10])"
   ]
  },
  {
   "cell_type": "code",
   "execution_count": 57,
   "metadata": {
    "collapsed": false
   },
   "outputs": [
    {
     "data": {
      "text/plain": [
       "array([1, 0, 1, ..., 0, 1, 0])"
      ]
     },
     "execution_count": 57,
     "metadata": {},
     "output_type": "execute_result"
    }
   ],
   "source": [
    "from sklearn import preprocessing\n",
    "le = preprocessing.LabelEncoder()\n",
    "le.fit(['positive','negative'])\n",
    "le.classes_\n",
    "lab = labels.split('\\n')[:25000]\n",
    "labels = le.transform(lab)\n",
    "labels\n",
    "# labels.split('\\n')[:25000]"
   ]
  },
  {
   "cell_type": "code",
   "execution_count": null,
   "metadata": {
    "collapsed": true
   },
   "outputs": [],
   "source": [
    "review_lens = Counter([len(x) for x in reviews_ints])"
   ]
  }
 ],
 "metadata": {
  "kernelspec": {
   "display_name": "Python 3",
   "language": "python",
   "name": "python3"
  },
  "language_info": {
   "codemirror_mode": {
    "name": "ipython",
    "version": 3
   },
   "file_extension": ".py",
   "mimetype": "text/x-python",
   "name": "python",
   "nbconvert_exporter": "python",
   "pygments_lexer": "ipython3",
   "version": "3.5.2"
  }
 },
 "nbformat": 4,
 "nbformat_minor": 1
}
