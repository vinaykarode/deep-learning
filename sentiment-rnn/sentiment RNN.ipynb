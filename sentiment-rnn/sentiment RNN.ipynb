{
 "cells": [
  {
   "cell_type": "code",
   "execution_count": 1,
   "metadata": {
    "collapsed": true
   },
   "outputs": [],
   "source": [
    "import numpy as np\n",
    "import tensorflow as tf"
   ]
  },
  {
   "cell_type": "code",
   "execution_count": 2,
   "metadata": {
    "collapsed": false
   },
   "outputs": [
    {
     "data": {
      "text/plain": [
       "'positive\\nnegative\\npositive\\nnegative\\npositive\\nnegative\\npositive\\nnegative\\npositive\\nnegative\\npositive\\nn'"
      ]
     },
     "execution_count": 2,
     "metadata": {},
     "output_type": "execute_result"
    }
   ],
   "source": [
    "with open('reviews.txt','r') as f:\n",
    "    reviews = f.read()\n",
    "with open('labels.txt','r') as f:\n",
    "    labels = f.read()\n",
    "reviews[:2000]\n",
    "labels[:100]\n"
   ]
  },
  {
   "cell_type": "code",
   "execution_count": 3,
   "metadata": {
    "collapsed": false
   },
   "outputs": [
    {
     "data": {
      "text/plain": [
       "['bromwell high is a cartoon comedy  it ran at the same time as some other programs about school life  such as  teachers   my   years in the teaching profession lead me to believe that bromwell high  s satire is much closer to reality than is  teachers   the scramble to survive financially  the insightful students who can see right through their pathetic teachers  pomp  the pettiness of the whole situation  all remind me of the schools i knew and their students  when i saw the episode in which a student repeatedly tried to burn down the school  i immediately recalled          at           high  a classic line inspector i  m here to sack one of your teachers  student welcome to bromwell high  i expect that many adults of my age think that bromwell high is far fetched  what a pity that it isn  t   ',\n",
       " 'story of a man who has unnatural feelings for a pig  starts out with a opening scene that is a terrific example of absurd comedy  a formal orchestra audience is turned into an insane  violent mob by the crazy chantings of it  s singers  unfortunately it stays absurd the whole time with no general narrative eventually making it just too off putting  even those from the era should be turned off  the cryptic dialogue would make shakespeare seem easy to a third grader  on a technical level it  s better than you might think with some good cinematography by future great vilmos zsigmond  future stars sally kirkland and frederic forrest can be seen briefly   ',\n",
       " 'homelessness  or houselessness as george carlin stated  has been an issue for years but never a plan to help those on the street that were once considered human who did everything from going to school  work  or vote for the matter  most people think of the homeless as just a lost cause while worrying about things such as racism  the war on iraq  pressuring kids to succeed  technology  the elections  inflation  or worrying if they  ll be next to end up on the streets   br    br   but what if you were given a bet to live on the streets for a month without the luxuries you once had from a home  the entertainment sets  a bathroom  pictures on the wall  a computer  and everything you once treasure to see what it  s like to be homeless  that is goddard bolt  s lesson   br    br   mel brooks  who directs  who stars as bolt plays a rich man who has everything in the world until deciding to make a bet with a sissy rival  jeffery tambor  to see if he can live in the streets for thirty days without the luxuries if bolt succeeds  he can do what he wants with a future project of making more buildings  the bet  s on where bolt is thrown on the street with a bracelet on his leg to monitor his every move where he can  t step off the sidewalk  he  s given the nickname pepto by a vagrant after it  s written on his forehead where bolt meets other characters including a woman by the name of molly  lesley ann warren  an ex  dancer who got divorce before losing her home  and her pals sailor  howard morris  and fumes  teddy wilson  who are already used to the streets  they  re survivors  bolt isn  t  he  s not used to reaching mutual agreements like he once did when being rich where it  s fight or flight  kill or be killed   br    br   while the love connection between molly and bolt wasn  t necessary to plot  i found  life stinks  to be one of mel brooks  observant films where prior to being a comedy  it shows a tender side compared to his slapstick work such as blazing saddles  young frankenstein  or spaceballs for the matter  to show what it  s like having something valuable before losing it the next day or on the other hand making a stupid bet like all rich people do when they don  t know what to do with their money  maybe they should give it to the homeless instead of using it like monopoly money   br    br   or maybe this film will inspire you to help others   ']"
      ]
     },
     "execution_count": 3,
     "metadata": {},
     "output_type": "execute_result"
    }
   ],
   "source": [
    "from string import punctuation\n",
    "all_text = ''.join([c for c in reviews if c not in punctuation])\n",
    "reviews = all_text.split('\\n')\n",
    "all_text = ''.join(reviews)\n",
    "words = all_text.split()\n",
    "reviews[:3]"
   ]
  },
  {
   "cell_type": "code",
   "execution_count": 4,
   "metadata": {
    "collapsed": false
   },
   "outputs": [
    {
     "name": "stdout",
     "output_type": "stream",
     "text": [
      "[[21581, 308, 6, 3, 1050, 207, 8, 2142, 32, 1, 171, 57, 15, 49, 81, 5834, 44, 382, 110, 140, 15, 5210, 60, 154, 9, 1, 4981, 5878, 475, 71, 5, 260, 12, 21581, 308, 13, 1981, 6, 74, 2401, 5, 614, 73, 6, 5210, 1, 25279, 5, 1985, 10323, 1, 5811, 1501, 36, 51, 66, 204, 145, 67, 1201, 5210, 20974, 1, 42429, 4, 1, 221, 883, 31, 2992, 71, 4, 1, 5797, 10, 687, 2, 67, 1501, 54, 10, 216, 1, 383, 9, 62, 3, 1406, 3700, 783, 5, 3488, 180, 1, 382, 10, 1212, 13678, 32, 308, 3, 349, 341, 2915, 10, 143, 127, 5, 7775, 30, 4, 129, 5210, 1406, 2333, 5, 21581, 308, 10, 528, 12, 109, 1448, 4, 60, 543, 102, 12, 21581, 308, 6, 227, 4172, 48, 3, 2211, 12, 8, 215, 23], [63, 4, 3, 125, 36, 47, 7521, 1397, 16, 3, 4200, 505, 45, 17, 3, 622, 134, 12, 6, 3, 1280, 457, 4, 1722, 207, 3, 10773, 7376, 300, 6, 667, 83, 35, 2119, 1089, 2995, 34, 1, 900, 59238, 4, 8, 13, 5113, 464, 8, 2665, 1722, 1, 221, 57, 17, 58, 797, 1297, 834, 228, 8, 43, 98, 123, 1470, 59, 147, 38, 1, 963, 142, 29, 667, 123, 1, 13583, 410, 61, 94, 1775, 306, 755, 5, 3, 819, 10528, 22, 3, 1727, 635, 8, 13, 128, 73, 21, 233, 102, 17, 49, 50, 617, 34, 682, 85, 31761, 32146, 682, 374, 3348, 11701, 2, 16554, 7957, 51, 29, 108, 3340], [22736, 42, 70957, 15, 706, 17411, 3406, 47, 77, 35, 1821, 16, 154, 19, 114, 3, 1309, 5, 336, 147, 22, 1, 857, 12, 70, 281, 1169, 399, 36, 120, 283, 38, 169, 5, 382, 158, 42, 2279, 16, 1, 541, 90, 78, 102, 4, 1, 3251, 15, 43, 3, 407, 1069, 136, 8070, 44, 182, 140, 15, 3046, 1, 321, 22, 4836, 28650, 346, 5, 3099, 2098, 1, 19745, 17991, 42, 8070, 46, 33, 236, 29, 370, 5, 130, 56, 22, 1, 1929, 7, 7, 19, 48, 46, 21, 70, 344, 3, 2100, 5, 408, 22, 1, 1929, 16, 3, 3130, 205, 1, 32245, 21, 281, 68, 38, 3, 340, 1, 700, 715, 3, 3842, 1234, 22, 1, 1492, 3, 1197, 2, 283, 21, 281, 2443, 5, 66, 48, 8, 13, 39, 5, 29, 3251, 12, 6, 22136, 11996, 13, 2015, 7, 7, 3706, 2818, 36, 4177, 36, 374, 15, 11996, 296, 3, 997, 125, 36, 47, 283, 9, 1, 176, 363, 6945, 5, 94, 3, 2100, 17, 3, 5014, 2933, 14645, 21012, 5, 66, 46, 25, 51, 408, 9, 1, 1929, 16, 3243, 490, 205, 1, 32245, 46, 11996, 2845, 25, 51, 80, 48, 25, 483, 17, 3, 682, 1150, 4, 228, 52, 4485, 1, 2100, 13, 22, 118, 11996, 6, 1347, 22, 1, 857, 17, 3, 19774, 22, 27, 3878, 5, 10190, 27, 175, 829, 118, 25, 51, 23, 1458, 123, 1, 6459, 25, 13, 344, 1, 13775, 29140, 34, 3, 36229, 101, 8, 13, 391, 22, 27, 11876, 118, 11996, 874, 81, 103, 577, 3, 240, 34, 1, 393, 4, 4678, 16380, 1816, 3750, 35, 1200, 3110, 36, 188, 4069, 160, 2290, 41, 340, 2, 41, 8830, 6854, 1990, 4331, 2, 28927, 8930, 2462, 36, 26, 454, 338, 5, 1, 1929, 33, 155, 4242, 11996, 215, 23, 25, 13, 24, 338, 5, 4427, 5940, 29493, 39, 25, 281, 120, 54, 111, 997, 118, 8, 13, 534, 42, 2718, 501, 42, 29, 548, 7, 7, 136, 1, 115, 2004, 198, 4678, 2, 11996, 285, 23, 1646, 5, 112, 10, 254, 110, 4379, 5, 29, 30, 4, 3706, 2818, 16122, 107, 118, 2539, 5, 111, 3, 207, 8, 286, 3, 4232, 488, 1061, 5, 27, 2733, 158, 140, 15, 7528, 11504, 184, 4549, 42, 19235, 16, 1, 541, 5, 121, 48, 8, 13, 39, 255, 141, 4507, 160, 2290, 8, 1, 370, 245, 42, 22, 1, 81, 495, 228, 3, 372, 2100, 39, 31, 997, 78, 80, 54, 33, 89, 23, 122, 48, 5, 80, 17, 67, 273, 277, 33, 142, 201, 8, 5, 1, 3251, 303, 4, 757, 8, 39, 17315, 273, 7, 7, 42, 277, 11, 20, 79, 5881, 21, 5, 336, 400]]\n"
     ]
    }
   ],
   "source": [
    "from collections import Counter\n",
    "counts = Counter(words)\n",
    "vocab = sorted(counts, key=counts.get, reverse=True)\n",
    "vocab_to_int = { word:i for i, word in enumerate(vocab,1)}\n",
    "reviews_ints=[]\n",
    "for r in reviews:\n",
    "    reviews_ints.append([vocab_to_int[w] for w in r.split()])\n",
    "print(reviews_ints[:3])"
   ]
  },
  {
   "cell_type": "code",
   "execution_count": 5,
   "metadata": {
    "collapsed": false
   },
   "outputs": [
    {
     "data": {
      "text/plain": [
       "array([1, 0, 1, ..., 1, 0, 0])"
      ]
     },
     "execution_count": 5,
     "metadata": {},
     "output_type": "execute_result"
    }
   ],
   "source": [
    "# from sklearn import preprocessing\n",
    "# le = preprocessing.LabelEncoder()\n",
    "# le.fit(['positive','negative'])\n",
    "# le.classes_\n",
    "# lab = labels.split('\\n')[:25000]\n",
    "# labels = le.transform(lab)\n",
    "# labels\n",
    "\n",
    "labels = labels.split('\\n')\n",
    "labels = np.array([1 if each == 'positive' else 0 for each in labels])\n",
    "labels"
   ]
  },
  {
   "cell_type": "code",
   "execution_count": 6,
   "metadata": {
    "collapsed": false
   },
   "outputs": [
    {
     "name": "stdout",
     "output_type": "stream",
     "text": [
      "zero length review:1\n",
      "maximum review length:2514\n"
     ]
    }
   ],
   "source": [
    "review_lens = Counter([len(x) for x in reviews_ints])\n",
    "print('zero length review:{}'.format(review_lens[0]))\n",
    "print('maximum review length:{}'.format(max(review_lens)))"
   ]
  },
  {
   "cell_type": "code",
   "execution_count": 7,
   "metadata": {
    "collapsed": false
   },
   "outputs": [
    {
     "name": "stdout",
     "output_type": "stream",
     "text": [
      "25001\n",
      "25000\n"
     ]
    }
   ],
   "source": [
    "print(len(reviews_ints))\n",
    "reviews_ints = [r for r in reviews_ints if len(r)>0]\n",
    "print(len(reviews_ints))"
   ]
  },
  {
   "cell_type": "code",
   "execution_count": 8,
   "metadata": {
    "collapsed": false
   },
   "outputs": [
    {
     "name": "stdout",
     "output_type": "stream",
     "text": [
      "(25000, 200)\n"
     ]
    },
    {
     "data": {
      "text/plain": [
       "array([[    0,     0,     0,     0,     0,     0,     0,     0,     0,\n",
       "            0,     0,     0,     0,     0,     0,     0,     0,     0,\n",
       "            0,     0,     0,     0,     0,     0,     0,     0,     0,\n",
       "            0,     0,     0,     0,     0,     0,     0,     0,     0,\n",
       "            0,     0,     0,     0,     0,     0,     0,     0,     0,\n",
       "            0,     0,     0,     0,     0,     0,     0,     0,     0,\n",
       "            0,     0,     0,     0,     0,     0, 21581,   308,     6,\n",
       "            3,  1050,   207,     8,  2142,    32,     1,   171,    57,\n",
       "           15,    49,    81,  5834,    44,   382,   110,   140,    15,\n",
       "         5210,    60,   154,     9,     1,  4981,  5878,   475,    71,\n",
       "            5,   260,    12, 21581,   308,    13,  1981,     6,    74,\n",
       "         2401,     5,   614,    73,     6,  5210,     1, 25279,     5,\n",
       "         1985, 10323,     1,  5811,  1501,    36,    51,    66,   204,\n",
       "          145,    67,  1201,  5210, 20974,     1, 42429,     4,     1,\n",
       "          221,   883,    31,  2992,    71,     4,     1,  5797,    10,\n",
       "          687,     2,    67,  1501,    54,    10,   216,     1,   383,\n",
       "            9,    62,     3,  1406,  3700,   783,     5,  3488,   180,\n",
       "            1,   382,    10,  1212, 13678,    32,   308,     3,   349,\n",
       "          341,  2915,    10,   143,   127,     5,  7775,    30,     4,\n",
       "          129,  5210,  1406,  2333,     5, 21581,   308,    10,   528,\n",
       "           12,   109,  1448,     4,    60,   543,   102,    12, 21581,\n",
       "          308,     6,   227,  4172,    48,     3,  2211,    12,     8,\n",
       "          215,    23],\n",
       "       [    0,     0,     0,     0,     0,     0,     0,     0,     0,\n",
       "            0,     0,     0,     0,     0,     0,     0,     0,     0,\n",
       "            0,     0,     0,     0,     0,     0,     0,     0,     0,\n",
       "            0,     0,     0,     0,     0,     0,     0,     0,     0,\n",
       "            0,     0,     0,     0,     0,     0,     0,     0,     0,\n",
       "            0,     0,     0,     0,     0,     0,     0,     0,     0,\n",
       "            0,     0,     0,     0,     0,     0,     0,     0,     0,\n",
       "            0,     0,     0,     0,     0,     0,     0,     0,     0,\n",
       "            0,     0,     0,     0,     0,     0,     0,     0,     0,\n",
       "            0,     0,     0,     0,     0,    63,     4,     3,   125,\n",
       "           36,    47,  7521,  1397,    16,     3,  4200,   505,    45,\n",
       "           17,     3,   622,   134,    12,     6,     3,  1280,   457,\n",
       "            4,  1722,   207,     3, 10773,  7376,   300,     6,   667,\n",
       "           83,    35,  2119,  1089,  2995,    34,     1,   900, 59238,\n",
       "            4,     8,    13,  5113,   464,     8,  2665,  1722,     1,\n",
       "          221,    57,    17,    58,   797,  1297,   834,   228,     8,\n",
       "           43,    98,   123,  1470,    59,   147,    38,     1,   963,\n",
       "          142,    29,   667,   123,     1, 13583,   410,    61,    94,\n",
       "         1775,   306,   755,     5,     3,   819, 10528,    22,     3,\n",
       "         1727,   635,     8,    13,   128,    73,    21,   233,   102,\n",
       "           17,    49,    50,   617,    34,   682,    85, 31761, 32146,\n",
       "          682,   374,  3348, 11701,     2, 16554,  7957,    51,    29,\n",
       "          108,  3340],\n",
       "       [22736,    42, 70957,    15,   706, 17411,  3406,    47,    77,\n",
       "           35,  1821,    16,   154,    19,   114,     3,  1309,     5,\n",
       "          336,   147,    22,     1,   857,    12,    70,   281,  1169,\n",
       "          399,    36,   120,   283,    38,   169,     5,   382,   158,\n",
       "           42,  2279,    16,     1,   541,    90,    78,   102,     4,\n",
       "            1,  3251,    15,    43,     3,   407,  1069,   136,  8070,\n",
       "           44,   182,   140,    15,  3046,     1,   321,    22,  4836,\n",
       "        28650,   346,     5,  3099,  2098,     1, 19745, 17991,    42,\n",
       "         8070,    46,    33,   236,    29,   370,     5,   130,    56,\n",
       "           22,     1,  1929,     7,     7,    19,    48,    46,    21,\n",
       "           70,   344,     3,  2100,     5,   408,    22,     1,  1929,\n",
       "           16,     3,  3130,   205,     1, 32245,    21,   281,    68,\n",
       "           38,     3,   340,     1,   700,   715,     3,  3842,  1234,\n",
       "           22,     1,  1492,     3,  1197,     2,   283,    21,   281,\n",
       "         2443,     5,    66,    48,     8,    13,    39,     5,    29,\n",
       "         3251,    12,     6, 22136, 11996,    13,  2015,     7,     7,\n",
       "         3706,  2818,    36,  4177,    36,   374,    15, 11996,   296,\n",
       "            3,   997,   125,    36,    47,   283,     9,     1,   176,\n",
       "          363,  6945,     5,    94,     3,  2100,    17,     3,  5014,\n",
       "         2933, 14645, 21012,     5,    66,    46,    25,    51,   408,\n",
       "            9,     1,  1929,    16,  3243,   490,   205,     1, 32245,\n",
       "           46, 11996,  2845,    25,    51,    80,    48,    25,   483,\n",
       "           17,     3]])"
      ]
     },
     "execution_count": 8,
     "metadata": {},
     "output_type": "execute_result"
    }
   ],
   "source": [
    "seq_len = 200\n",
    "features = np.zeros((len(reviews_ints),seq_len), dtype=int)\n",
    "print(features.shape)\n",
    "for i, row in enumerate(reviews_ints):\n",
    "    features[i,-len(row):] = np.array(row)[:seq_len]\n",
    "features[:3]"
   ]
  },
  {
   "cell_type": "code",
   "execution_count": 9,
   "metadata": {
    "collapsed": false
   },
   "outputs": [
    {
     "data": {
      "text/plain": [
       "array([[    0,     0,     0,     0,     0,     0,     0,     0,     0,\n",
       "            0,     0,     0,     0,     0,     0,     0,     0,     0,\n",
       "            0,     0,     0,     0,     0,     0,     0,     0,     0,\n",
       "            0,     0,     0,     0,     0,     0,     0,     0,     0,\n",
       "            0,     0,     0,     0,     0,     0,     0,     0,     0,\n",
       "            0,     0,     0,     0,     0,     0,     0,     0,     0,\n",
       "            0,     0,     0,     0,     0,     0, 21581,   308,     6,\n",
       "            3,  1050,   207,     8,  2142,    32,     1,   171,    57,\n",
       "           15,    49,    81,  5834,    44,   382,   110,   140,    15,\n",
       "         5210,    60,   154,     9,     1,  4981,  5878,   475,    71,\n",
       "            5,   260,    12, 21581,   308,    13,  1981,     6,    74,\n",
       "         2401]])"
      ]
     },
     "execution_count": 9,
     "metadata": {},
     "output_type": "execute_result"
    }
   ],
   "source": [
    "features[:1,:100]"
   ]
  },
  {
   "cell_type": "code",
   "execution_count": 10,
   "metadata": {
    "collapsed": false
   },
   "outputs": [
    {
     "name": "stdout",
     "output_type": "stream",
     "text": [
      "(20000, 200) (2500, 200) (2500, 200)\n"
     ]
    }
   ],
   "source": [
    "from sklearn.model_selection import train_test_split\n",
    "split_frac = 0.8\n",
    "lab = list(labels[:25000])\n",
    "# print(type(lab))\n",
    "# lab = labels.reshape(25001,-1)[:25000]\n",
    "# print(features.shape, lab.shape)\n",
    "train_x, val_x, train_y, val_y = train_test_split(features, lab, train_size=split_frac)\n",
    "val_x, test_x, val_y, test_y = train_test_split(val_x, val_y, train_size=0.5)\n",
    "print(train_x.shape, val_x.shape, test_x.shape)"
   ]
  },
  {
   "cell_type": "code",
   "execution_count": 11,
   "metadata": {
    "collapsed": true
   },
   "outputs": [],
   "source": [
    "# building graph\n",
    "\n",
    "lstm_size = 256\n",
    "lstm_layers = 1\n",
    "batch_size = 500\n",
    "learning_rate = 0.0001"
   ]
  },
  {
   "cell_type": "code",
   "execution_count": 15,
   "metadata": {
    "collapsed": false
   },
   "outputs": [],
   "source": [
    "n_words = len(vocab)\n",
    "\n",
    "# create graph object\n",
    "graph = tf.Graph()\n",
    "with graph.as_default():\n",
    "    inputs_ = tf.placeholder(tf.int32, shape=[None, None], name='inputs')\n",
    "    labels_ = tf.placeholder(tf.int32, shape=[None, None], name='labels')\n",
    "    keep_prob = tf.placeholder(tf.float32, name='keep_prob')"
   ]
  },
  {
   "cell_type": "code",
   "execution_count": null,
   "metadata": {
    "collapsed": true
   },
   "outputs": [],
   "source": []
  },
  {
   "cell_type": "code",
   "execution_count": null,
   "metadata": {
    "collapsed": true
   },
   "outputs": [],
   "source": []
  },
  {
   "cell_type": "code",
   "execution_count": null,
   "metadata": {
    "collapsed": true
   },
   "outputs": [],
   "source": []
  },
  {
   "cell_type": "code",
   "execution_count": null,
   "metadata": {
    "collapsed": true
   },
   "outputs": [],
   "source": []
  },
  {
   "cell_type": "code",
   "execution_count": null,
   "metadata": {
    "collapsed": true
   },
   "outputs": [],
   "source": []
  },
  {
   "cell_type": "code",
   "execution_count": null,
   "metadata": {
    "collapsed": true
   },
   "outputs": [],
   "source": []
  },
  {
   "cell_type": "code",
   "execution_count": null,
   "metadata": {
    "collapsed": true
   },
   "outputs": [],
   "source": []
  }
 ],
 "metadata": {
  "kernelspec": {
   "display_name": "Python 3",
   "language": "python",
   "name": "python3"
  },
  "language_info": {
   "codemirror_mode": {
    "name": "ipython",
    "version": 3
   },
   "file_extension": ".py",
   "mimetype": "text/x-python",
   "name": "python",
   "nbconvert_exporter": "python",
   "pygments_lexer": "ipython3",
   "version": "3.5.2"
  }
 },
 "nbformat": 4,
 "nbformat_minor": 1
}
