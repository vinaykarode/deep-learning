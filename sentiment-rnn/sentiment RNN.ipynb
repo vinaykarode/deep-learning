{
 "cells": [
  {
   "cell_type": "code",
   "execution_count": 1,
   "metadata": {
    "collapsed": true
   },
   "outputs": [],
   "source": [
    "import numpy as np\n",
    "import tensorflow as tf"
   ]
  },
  {
   "cell_type": "code",
   "execution_count": 2,
   "metadata": {
    "collapsed": false
   },
   "outputs": [
    {
     "data": {
      "text/plain": [
       "'positive\\nnegative\\npositive\\nnegative\\npositive\\nnegative\\npositive\\nnegative\\npositive\\nnegative\\npositive\\nn'"
      ]
     },
     "execution_count": 2,
     "metadata": {},
     "output_type": "execute_result"
    }
   ],
   "source": [
    "with open('reviews.txt','r') as f:\n",
    "    reviews = f.read()\n",
    "with open('labels.txt','r') as f:\n",
    "    labels = f.read()\n",
    "reviews[:2000]\n",
    "labels[:100]\n"
   ]
  },
  {
   "cell_type": "code",
   "execution_count": 3,
   "metadata": {
    "collapsed": false
   },
   "outputs": [
    {
     "data": {
      "text/plain": [
       "['bromwell high is a cartoon comedy  it ran at the same time as some other programs about school life  such as  teachers   my   years in the teaching profession lead me to believe that bromwell high  s satire is much closer to reality than is  teachers   the scramble to survive financially  the insightful students who can see right through their pathetic teachers  pomp  the pettiness of the whole situation  all remind me of the schools i knew and their students  when i saw the episode in which a student repeatedly tried to burn down the school  i immediately recalled          at           high  a classic line inspector i  m here to sack one of your teachers  student welcome to bromwell high  i expect that many adults of my age think that bromwell high is far fetched  what a pity that it isn  t   ',\n",
       " 'story of a man who has unnatural feelings for a pig  starts out with a opening scene that is a terrific example of absurd comedy  a formal orchestra audience is turned into an insane  violent mob by the crazy chantings of it  s singers  unfortunately it stays absurd the whole time with no general narrative eventually making it just too off putting  even those from the era should be turned off  the cryptic dialogue would make shakespeare seem easy to a third grader  on a technical level it  s better than you might think with some good cinematography by future great vilmos zsigmond  future stars sally kirkland and frederic forrest can be seen briefly   ',\n",
       " 'homelessness  or houselessness as george carlin stated  has been an issue for years but never a plan to help those on the street that were once considered human who did everything from going to school  work  or vote for the matter  most people think of the homeless as just a lost cause while worrying about things such as racism  the war on iraq  pressuring kids to succeed  technology  the elections  inflation  or worrying if they  ll be next to end up on the streets   br    br   but what if you were given a bet to live on the streets for a month without the luxuries you once had from a home  the entertainment sets  a bathroom  pictures on the wall  a computer  and everything you once treasure to see what it  s like to be homeless  that is goddard bolt  s lesson   br    br   mel brooks  who directs  who stars as bolt plays a rich man who has everything in the world until deciding to make a bet with a sissy rival  jeffery tambor  to see if he can live in the streets for thirty days without the luxuries if bolt succeeds  he can do what he wants with a future project of making more buildings  the bet  s on where bolt is thrown on the street with a bracelet on his leg to monitor his every move where he can  t step off the sidewalk  he  s given the nickname pepto by a vagrant after it  s written on his forehead where bolt meets other characters including a woman by the name of molly  lesley ann warren  an ex  dancer who got divorce before losing her home  and her pals sailor  howard morris  and fumes  teddy wilson  who are already used to the streets  they  re survivors  bolt isn  t  he  s not used to reaching mutual agreements like he once did when being rich where it  s fight or flight  kill or be killed   br    br   while the love connection between molly and bolt wasn  t necessary to plot  i found  life stinks  to be one of mel brooks  observant films where prior to being a comedy  it shows a tender side compared to his slapstick work such as blazing saddles  young frankenstein  or spaceballs for the matter  to show what it  s like having something valuable before losing it the next day or on the other hand making a stupid bet like all rich people do when they don  t know what to do with their money  maybe they should give it to the homeless instead of using it like monopoly money   br    br   or maybe this film will inspire you to help others   ']"
      ]
     },
     "execution_count": 3,
     "metadata": {},
     "output_type": "execute_result"
    }
   ],
   "source": [
    "from string import punctuation\n",
    "all_text = ''.join([c for c in reviews if c not in punctuation])\n",
    "reviews = all_text.split('\\n')\n",
    "all_text = ''.join(reviews)\n",
    "words = all_text.split()\n",
    "reviews[:3]"
   ]
  },
  {
   "cell_type": "code",
   "execution_count": 4,
   "metadata": {
    "collapsed": false
   },
   "outputs": [
    {
     "name": "stdout",
     "output_type": "stream",
     "text": [
      "[[21376, 308, 6, 3, 1050, 207, 8, 2140, 32, 1, 171, 57, 15, 49, 81, 5824, 44, 382, 110, 140, 15, 5234, 60, 154, 9, 1, 4990, 5855, 475, 71, 5, 260, 12, 21376, 308, 13, 1978, 6, 74, 2400, 5, 613, 73, 6, 5234, 1, 24503, 5, 1988, 10248, 1, 5810, 1502, 36, 51, 66, 204, 145, 67, 1204, 5234, 20900, 1, 38758, 4, 1, 221, 883, 31, 2988, 71, 4, 1, 5803, 10, 687, 2, 67, 1502, 54, 10, 216, 1, 384, 9, 62, 3, 1406, 3690, 784, 5, 3503, 180, 1, 382, 10, 1214, 13733, 32, 308, 3, 349, 341, 2924, 10, 143, 127, 5, 7725, 30, 4, 129, 5234, 1406, 2328, 5, 21376, 308, 10, 528, 12, 109, 1450, 4, 60, 543, 102, 12, 21376, 308, 6, 227, 4152, 48, 3, 2212, 12, 8, 215, 23], [63, 4, 3, 125, 36, 47, 7506, 1398, 16, 3, 4204, 505, 45, 17, 3, 622, 134, 12, 6, 3, 1280, 457, 4, 1723, 207, 3, 10723, 7398, 300, 6, 667, 83, 35, 2118, 1087, 2995, 34, 1, 899, 46962, 4, 8, 13, 5117, 464, 8, 2665, 1723, 1, 221, 57, 17, 58, 795, 1298, 834, 228, 8, 43, 98, 123, 1470, 59, 147, 38, 1, 963, 142, 29, 667, 123, 1, 14029, 410, 61, 94, 1779, 306, 755, 5, 3, 819, 10448, 22, 3, 1727, 635, 8, 13, 128, 73, 21, 233, 102, 17, 49, 50, 618, 34, 685, 85, 30788, 29713, 685, 374, 3349, 11554, 2, 16992, 8054, 51, 29, 108, 3330], [22891, 42, 47563, 15, 707, 17341, 3389, 47, 77, 35, 1822, 16, 154, 19, 114, 3, 1309, 5, 336, 147, 22, 1, 857, 12, 70, 281, 1169, 399, 36, 120, 283, 38, 169, 5, 382, 158, 42, 2270, 16, 1, 541, 90, 78, 102, 4, 1, 3260, 15, 43, 3, 407, 1069, 136, 8154, 44, 182, 140, 15, 3059, 1, 320, 22, 4856, 26235, 346, 5, 3097, 2092, 1, 19125, 18276, 42, 8154, 46, 33, 236, 29, 370, 5, 130, 56, 22, 1, 1930, 7, 7, 19, 48, 46, 21, 70, 345, 3, 2102, 5, 408, 22, 1, 1930, 16, 3, 3125, 205, 1, 30170, 21, 281, 68, 38, 3, 340, 1, 700, 716, 3, 3824, 1233, 22, 1, 1491, 3, 1197, 2, 283, 21, 281, 2440, 5, 66, 48, 8, 13, 39, 5, 29, 3260, 12, 6, 21847, 11997, 13, 2021, 7, 7, 3700, 2826, 36, 4174, 36, 374, 15, 11997, 296, 3, 997, 125, 36, 47, 283, 9, 1, 176, 363, 6935, 5, 94, 3, 2102, 17, 3, 4986, 2949, 15037, 20401, 5, 66, 46, 25, 51, 408, 9, 1, 1930, 16, 3240, 490, 205, 1, 30170, 46, 11997, 2862, 25, 51, 80, 48, 25, 483, 17, 3, 685, 1150, 4, 228, 52, 4487, 1, 2102, 13, 22, 118, 11997, 6, 1347, 22, 1, 857, 17, 3, 19577, 22, 27, 3896, 5, 10354, 27, 175, 829, 118, 25, 51, 23, 1458, 123, 1, 6486, 25, 13, 345, 1, 13865, 29561, 34, 3, 35570, 101, 8, 13, 391, 22, 27, 11946, 118, 11997, 874, 81, 103, 577, 3, 240, 34, 1, 393, 4, 4688, 16517, 1818, 3739, 35, 1202, 3113, 36, 188, 4067, 160, 2289, 41, 340, 2, 41, 8941, 6864, 1987, 4339, 2, 31602, 8904, 2462, 36, 26, 453, 338, 5, 1, 1930, 33, 155, 4230, 11997, 215, 23, 25, 13, 24, 338, 5, 4454, 5961, 30087, 39, 25, 281, 120, 54, 111, 997, 118, 8, 13, 534, 42, 2723, 501, 42, 29, 548, 7, 7, 136, 1, 115, 2009, 198, 4688, 2, 11997, 285, 23, 1645, 5, 112, 10, 254, 110, 4375, 5, 29, 30, 4, 3700, 2826, 16263, 107, 118, 2533, 5, 111, 3, 207, 8, 286, 3, 4236, 488, 1060, 5, 27, 2741, 158, 140, 15, 7534, 11699, 184, 4543, 42, 19848, 16, 1, 541, 5, 121, 48, 8, 13, 39, 255, 141, 4509, 160, 2289, 8, 1, 370, 245, 42, 22, 1, 81, 495, 228, 3, 372, 2102, 39, 31, 997, 78, 80, 54, 33, 89, 23, 122, 48, 5, 80, 17, 67, 273, 277, 33, 142, 201, 8, 5, 1, 3260, 303, 4, 757, 8, 39, 17246, 273, 7, 7, 42, 277, 11, 20, 79, 5899, 21, 5, 336, 400]]\n"
     ]
    }
   ],
   "source": [
    "from collections import Counter\n",
    "counts = Counter(words)\n",
    "vocab = sorted(counts, key=counts.get, reverse=True)\n",
    "vocab_to_int = { word:i for i, word in enumerate(vocab,1)}\n",
    "reviews_ints=[]\n",
    "for r in reviews:\n",
    "    reviews_ints.append([vocab_to_int[w] for w in r.split()])\n",
    "print(reviews_ints[:3])"
   ]
  },
  {
   "cell_type": "code",
   "execution_count": 5,
   "metadata": {
    "collapsed": false
   },
   "outputs": [
    {
     "data": {
      "text/plain": [
       "array([1, 0, 1, ..., 1, 0, 0])"
      ]
     },
     "execution_count": 5,
     "metadata": {},
     "output_type": "execute_result"
    }
   ],
   "source": [
    "# from sklearn import preprocessing\n",
    "# le = preprocessing.LabelEncoder()\n",
    "# le.fit(['positive','negative'])\n",
    "# le.classes_\n",
    "# lab = labels.split('\\n')[:25000]\n",
    "# labels = le.transform(lab)\n",
    "# labels\n",
    "\n",
    "labels = labels.split('\\n')\n",
    "labels = np.array([1 if each == 'positive' else 0 for each in labels])\n",
    "labels"
   ]
  },
  {
   "cell_type": "code",
   "execution_count": 6,
   "metadata": {
    "collapsed": false
   },
   "outputs": [
    {
     "name": "stdout",
     "output_type": "stream",
     "text": [
      "zero length review:1\n",
      "maximum review length:2514\n"
     ]
    }
   ],
   "source": [
    "review_lens = Counter([len(x) for x in reviews_ints])\n",
    "print('zero length review:{}'.format(review_lens[0]))\n",
    "print('maximum review length:{}'.format(max(review_lens)))"
   ]
  },
  {
   "cell_type": "code",
   "execution_count": 7,
   "metadata": {
    "collapsed": false
   },
   "outputs": [
    {
     "name": "stdout",
     "output_type": "stream",
     "text": [
      "25001\n",
      "25000\n"
     ]
    }
   ],
   "source": [
    "print(len(reviews_ints))\n",
    "reviews_ints = [r for r in reviews_ints if len(r)>0]\n",
    "print(len(reviews_ints))"
   ]
  },
  {
   "cell_type": "code",
   "execution_count": 8,
   "metadata": {
    "collapsed": false
   },
   "outputs": [
    {
     "name": "stdout",
     "output_type": "stream",
     "text": [
      "(25000, 200)\n"
     ]
    },
    {
     "data": {
      "text/plain": [
       "array([[    0,     0,     0,     0,     0,     0,     0,     0,     0,\n",
       "            0,     0,     0,     0,     0,     0,     0,     0,     0,\n",
       "            0,     0,     0,     0,     0,     0,     0,     0,     0,\n",
       "            0,     0,     0,     0,     0,     0,     0,     0,     0,\n",
       "            0,     0,     0,     0,     0,     0,     0,     0,     0,\n",
       "            0,     0,     0,     0,     0,     0,     0,     0,     0,\n",
       "            0,     0,     0,     0,     0,     0, 21376,   308,     6,\n",
       "            3,  1050,   207,     8,  2140,    32,     1,   171,    57,\n",
       "           15,    49,    81,  5824,    44,   382,   110,   140,    15,\n",
       "         5234,    60,   154,     9,     1,  4990,  5855,   475,    71,\n",
       "            5,   260,    12, 21376,   308,    13,  1978,     6,    74,\n",
       "         2400,     5,   613,    73,     6,  5234,     1, 24503,     5,\n",
       "         1988, 10248,     1,  5810,  1502,    36,    51,    66,   204,\n",
       "          145,    67,  1204,  5234, 20900,     1, 38758,     4,     1,\n",
       "          221,   883,    31,  2988,    71,     4,     1,  5803,    10,\n",
       "          687,     2,    67,  1502,    54,    10,   216,     1,   384,\n",
       "            9,    62,     3,  1406,  3690,   784,     5,  3503,   180,\n",
       "            1,   382,    10,  1214, 13733,    32,   308,     3,   349,\n",
       "          341,  2924,    10,   143,   127,     5,  7725,    30,     4,\n",
       "          129,  5234,  1406,  2328,     5, 21376,   308,    10,   528,\n",
       "           12,   109,  1450,     4,    60,   543,   102,    12, 21376,\n",
       "          308,     6,   227,  4152,    48,     3,  2212,    12,     8,\n",
       "          215,    23],\n",
       "       [    0,     0,     0,     0,     0,     0,     0,     0,     0,\n",
       "            0,     0,     0,     0,     0,     0,     0,     0,     0,\n",
       "            0,     0,     0,     0,     0,     0,     0,     0,     0,\n",
       "            0,     0,     0,     0,     0,     0,     0,     0,     0,\n",
       "            0,     0,     0,     0,     0,     0,     0,     0,     0,\n",
       "            0,     0,     0,     0,     0,     0,     0,     0,     0,\n",
       "            0,     0,     0,     0,     0,     0,     0,     0,     0,\n",
       "            0,     0,     0,     0,     0,     0,     0,     0,     0,\n",
       "            0,     0,     0,     0,     0,     0,     0,     0,     0,\n",
       "            0,     0,     0,     0,     0,    63,     4,     3,   125,\n",
       "           36,    47,  7506,  1398,    16,     3,  4204,   505,    45,\n",
       "           17,     3,   622,   134,    12,     6,     3,  1280,   457,\n",
       "            4,  1723,   207,     3, 10723,  7398,   300,     6,   667,\n",
       "           83,    35,  2118,  1087,  2995,    34,     1,   899, 46962,\n",
       "            4,     8,    13,  5117,   464,     8,  2665,  1723,     1,\n",
       "          221,    57,    17,    58,   795,  1298,   834,   228,     8,\n",
       "           43,    98,   123,  1470,    59,   147,    38,     1,   963,\n",
       "          142,    29,   667,   123,     1, 14029,   410,    61,    94,\n",
       "         1779,   306,   755,     5,     3,   819, 10448,    22,     3,\n",
       "         1727,   635,     8,    13,   128,    73,    21,   233,   102,\n",
       "           17,    49,    50,   618,    34,   685,    85, 30788, 29713,\n",
       "          685,   374,  3349, 11554,     2, 16992,  8054,    51,    29,\n",
       "          108,  3330],\n",
       "       [22891,    42, 47563,    15,   707, 17341,  3389,    47,    77,\n",
       "           35,  1822,    16,   154,    19,   114,     3,  1309,     5,\n",
       "          336,   147,    22,     1,   857,    12,    70,   281,  1169,\n",
       "          399,    36,   120,   283,    38,   169,     5,   382,   158,\n",
       "           42,  2270,    16,     1,   541,    90,    78,   102,     4,\n",
       "            1,  3260,    15,    43,     3,   407,  1069,   136,  8154,\n",
       "           44,   182,   140,    15,  3059,     1,   320,    22,  4856,\n",
       "        26235,   346,     5,  3097,  2092,     1, 19125, 18276,    42,\n",
       "         8154,    46,    33,   236,    29,   370,     5,   130,    56,\n",
       "           22,     1,  1930,     7,     7,    19,    48,    46,    21,\n",
       "           70,   345,     3,  2102,     5,   408,    22,     1,  1930,\n",
       "           16,     3,  3125,   205,     1, 30170,    21,   281,    68,\n",
       "           38,     3,   340,     1,   700,   716,     3,  3824,  1233,\n",
       "           22,     1,  1491,     3,  1197,     2,   283,    21,   281,\n",
       "         2440,     5,    66,    48,     8,    13,    39,     5,    29,\n",
       "         3260,    12,     6, 21847, 11997,    13,  2021,     7,     7,\n",
       "         3700,  2826,    36,  4174,    36,   374,    15, 11997,   296,\n",
       "            3,   997,   125,    36,    47,   283,     9,     1,   176,\n",
       "          363,  6935,     5,    94,     3,  2102,    17,     3,  4986,\n",
       "         2949, 15037, 20401,     5,    66,    46,    25,    51,   408,\n",
       "            9,     1,  1930,    16,  3240,   490,   205,     1, 30170,\n",
       "           46, 11997,  2862,    25,    51,    80,    48,    25,   483,\n",
       "           17,     3]])"
      ]
     },
     "execution_count": 8,
     "metadata": {},
     "output_type": "execute_result"
    }
   ],
   "source": [
    "seq_len = 200\n",
    "features = np.zeros((len(reviews_ints),seq_len), dtype=int)\n",
    "print(features.shape)\n",
    "for i, row in enumerate(reviews_ints):\n",
    "    features[i,-len(row):] = np.array(row)[:seq_len]\n",
    "features[:3]"
   ]
  },
  {
   "cell_type": "code",
   "execution_count": 9,
   "metadata": {
    "collapsed": false
   },
   "outputs": [
    {
     "data": {
      "text/plain": [
       "array([[    0,     0,     0,     0,     0,     0,     0,     0,     0,\n",
       "            0,     0,     0,     0,     0,     0,     0,     0,     0,\n",
       "            0,     0,     0,     0,     0,     0,     0,     0,     0,\n",
       "            0,     0,     0,     0,     0,     0,     0,     0,     0,\n",
       "            0,     0,     0,     0,     0,     0,     0,     0,     0,\n",
       "            0,     0,     0,     0,     0,     0,     0,     0,     0,\n",
       "            0,     0,     0,     0,     0,     0, 21376,   308,     6,\n",
       "            3,  1050,   207,     8,  2140,    32,     1,   171,    57,\n",
       "           15,    49,    81,  5824,    44,   382,   110,   140,    15,\n",
       "         5234,    60,   154,     9,     1,  4990,  5855,   475,    71,\n",
       "            5,   260,    12, 21376,   308,    13,  1978,     6,    74,\n",
       "         2400]])"
      ]
     },
     "execution_count": 9,
     "metadata": {},
     "output_type": "execute_result"
    }
   ],
   "source": [
    "features[:1,:100]"
   ]
  },
  {
   "cell_type": "code",
   "execution_count": 10,
   "metadata": {
    "collapsed": false
   },
   "outputs": [
    {
     "name": "stdout",
     "output_type": "stream",
     "text": [
      "(20000, 200) (2500, 200) (2500, 200)\n"
     ]
    }
   ],
   "source": [
    "from sklearn.model_selection import train_test_split\n",
    "split_frac = 0.8\n",
    "lab = list(labels[:25000])\n",
    "# print(type(lab))\n",
    "# lab = labels.reshape(25001,-1)[:25000]\n",
    "# print(features.shape, lab.shape)\n",
    "train_x, val_x, train_y, val_y = train_test_split(features, lab, train_size=split_frac)\n",
    "val_x, test_x, val_y, test_y = train_test_split(val_x, val_y, train_size=0.5)\n",
    "print(train_x.shape, val_x.shape, test_x.shape)"
   ]
  },
  {
   "cell_type": "code",
   "execution_count": 11,
   "metadata": {
    "collapsed": true
   },
   "outputs": [],
   "source": [
    "# building graph\n",
    "\n",
    "lstm_size = 256\n",
    "lstm_layers = 1\n",
    "batch_size = 500\n",
    "learning_rate = 0.0001"
   ]
  },
  {
   "cell_type": "code",
   "execution_count": 12,
   "metadata": {
    "collapsed": false
   },
   "outputs": [],
   "source": [
    "n_words = len(vocab_to_int)\n",
    "\n",
    "# Create the graph object\n",
    "graph = tf.Graph()\n",
    "# Add nodes to the graph\n",
    "with graph.as_default():\n",
    "    inputs_ = tf.placeholder(tf.int32, [None, None], name='inputs')\n",
    "    labels_ = tf.placeholder(tf.int32, [None, None], name='labels')\n",
    "    keep_prob = tf.placeholder(tf.float32, name='keep_prob')"
   ]
  },
  {
   "cell_type": "code",
   "execution_count": 13,
   "metadata": {
    "collapsed": true
   },
   "outputs": [],
   "source": [
    "\n",
    "# Size of the embedding vectors (number of units in the embedding layer)\n",
    "embed_size = 300 \n",
    "\n",
    "with graph.as_default():\n",
    "    embedding = tf.Variable(tf.random_uniform((n_words, embed_size), -1, 1))\n",
    "    embed = tf.nn.embedding_lookup(embedding, inputs_)"
   ]
  },
  {
   "cell_type": "code",
   "execution_count": 14,
   "metadata": {
    "collapsed": true
   },
   "outputs": [],
   "source": [
    "with graph.as_default():\n",
    "    # Your basic LSTM cell\n",
    "    lstm = tf.contrib.rnn.BasicLSTMCell(lstm_size)\n",
    "    \n",
    "    # Add dropout to the cell\n",
    "    drop = tf.contrib.rnn.DropoutWrapper(lstm, output_keep_prob=keep_prob)\n",
    "    \n",
    "    # Stack up multiple LSTM layers, for deep learning\n",
    "    cell = tf.contrib.rnn.MultiRNNCell([drop] * lstm_layers)\n",
    "    \n",
    "    # Getting an initial state of all zeros\n",
    "    initial_state = cell.zero_state(batch_size, tf.float32)"
   ]
  },
  {
   "cell_type": "code",
   "execution_count": 15,
   "metadata": {
    "collapsed": true
   },
   "outputs": [],
   "source": [
    "with graph.as_default():\n",
    "    outputs, final_state = tf.nn.dynamic_rnn(cell, embed,\n",
    "                                             initial_state=initial_state)"
   ]
  },
  {
   "cell_type": "code",
   "execution_count": 16,
   "metadata": {
    "collapsed": true
   },
   "outputs": [],
   "source": [
    "\n",
    "with graph.as_default():\n",
    "    predictions = tf.contrib.layers.fully_connected(outputs[:, -1], 1, activation_fn=tf.sigmoid)\n",
    "    cost = tf.losses.mean_squared_error(labels_, predictions)\n",
    "    \n",
    "    optimizer = tf.train.AdamOptimizer(learning_rate).minimize(cost)"
   ]
  },
  {
   "cell_type": "code",
   "execution_count": 17,
   "metadata": {
    "collapsed": true
   },
   "outputs": [],
   "source": [
    "\n",
    "with graph.as_default():\n",
    "    correct_pred = tf.equal(tf.cast(tf.round(predictions), tf.int32), labels_)\n",
    "    accuracy = tf.reduce_mean(tf.cast(correct_pred, tf.float32))"
   ]
  },
  {
   "cell_type": "code",
   "execution_count": 18,
   "metadata": {
    "collapsed": true
   },
   "outputs": [],
   "source": [
    "def get_batches(x, y, batch_size=100):\n",
    "    \n",
    "    n_batches = len(x)//batch_size\n",
    "    x, y = x[:n_batches*batch_size], y[:n_batches*batch_size]\n",
    "    for ii in range(0, len(x), batch_size):\n",
    "        yield x[ii:ii+batch_size], y[ii:ii+batch_size]"
   ]
  },
  {
   "cell_type": "code",
   "execution_count": 19,
   "metadata": {
    "collapsed": false
   },
   "outputs": [
    {
     "ename": "TypeError",
     "evalue": "list indices must be integers or slices, not tuple",
     "output_type": "error",
     "traceback": [
      "\u001b[0;31m---------------------------------------------------------------------------\u001b[0m",
      "\u001b[0;31mTypeError\u001b[0m                                 Traceback (most recent call last)",
      "\u001b[0;32m<ipython-input-19-da10d9fe9550>\u001b[0m in \u001b[0;36m<module>\u001b[0;34m()\u001b[0m\n\u001b[1;32m     12\u001b[0m         \u001b[0;32mfor\u001b[0m \u001b[0mii\u001b[0m\u001b[0;34m,\u001b[0m \u001b[0;34m(\u001b[0m\u001b[0mx\u001b[0m\u001b[0;34m,\u001b[0m \u001b[0my\u001b[0m\u001b[0;34m)\u001b[0m \u001b[0;32min\u001b[0m \u001b[0menumerate\u001b[0m\u001b[0;34m(\u001b[0m\u001b[0mget_batches\u001b[0m\u001b[0;34m(\u001b[0m\u001b[0mtrain_x\u001b[0m\u001b[0;34m,\u001b[0m \u001b[0mtrain_y\u001b[0m\u001b[0;34m,\u001b[0m \u001b[0mbatch_size\u001b[0m\u001b[0;34m)\u001b[0m\u001b[0;34m,\u001b[0m \u001b[0;36m1\u001b[0m\u001b[0;34m)\u001b[0m\u001b[0;34m:\u001b[0m\u001b[0;34m\u001b[0m\u001b[0m\n\u001b[1;32m     13\u001b[0m             feed = {inputs_: x,\n\u001b[0;32m---> 14\u001b[0;31m                     \u001b[0mlabels_\u001b[0m\u001b[0;34m:\u001b[0m \u001b[0my\u001b[0m\u001b[0;34m[\u001b[0m\u001b[0;34m:\u001b[0m\u001b[0;34m,\u001b[0m \u001b[0;32mNone\u001b[0m\u001b[0;34m]\u001b[0m\u001b[0;34m,\u001b[0m\u001b[0;34m\u001b[0m\u001b[0m\n\u001b[0m\u001b[1;32m     15\u001b[0m                     \u001b[0mkeep_prob\u001b[0m\u001b[0;34m:\u001b[0m \u001b[0;36m0.5\u001b[0m\u001b[0;34m,\u001b[0m\u001b[0;34m\u001b[0m\u001b[0m\n\u001b[1;32m     16\u001b[0m                     initial_state: state}\n",
      "\u001b[0;31mTypeError\u001b[0m: list indices must be integers or slices, not tuple"
     ]
    }
   ],
   "source": [
    "epochs = 10\n",
    "\n",
    "with graph.as_default():\n",
    "    saver = tf.train.Saver()\n",
    "\n",
    "with tf.Session(graph=graph) as sess:\n",
    "    sess.run(tf.global_variables_initializer())\n",
    "    iteration = 1\n",
    "    for e in range(epochs):\n",
    "        state = sess.run(initial_state)\n",
    "        \n",
    "        for ii, (x, y) in enumerate(get_batches(train_x, train_y, batch_size), 1):\n",
    "            feed = {inputs_: x,\n",
    "                    labels_: y[:, None],\n",
    "                    keep_prob: 0.5,\n",
    "                    initial_state: state}\n",
    "            loss, state, _ = sess.run([cost, final_state, optimizer], feed_dict=feed)\n",
    "            \n",
    "            if iteration%5==0:\n",
    "                print(\"Epoch: {}/{}\".format(e, epochs),\n",
    "                      \"Iteration: {}\".format(iteration),\n",
    "                      \"Train loss: {:.3f}\".format(loss))\n",
    "\n",
    "            if iteration%25==0:\n",
    "                val_acc = []\n",
    "                val_state = sess.run(cell.zero_state(batch_size, tf.float32))\n",
    "                for x, y in get_batches(val_x, val_y, batch_size):\n",
    "                    feed = {inputs_: x,\n",
    "                            labels_: y[:, None],\n",
    "                            keep_prob: 1,\n",
    "                            initial_state: val_state}\n",
    "                    batch_acc, val_state = sess.run([accuracy, final_state], feed_dict=feed)\n",
    "                    val_acc.append(batch_acc)\n",
    "                print(\"Val acc: {:.3f}\".format(np.mean(val_acc)))\n",
    "            iteration +=1\n",
    "    saver.save(sess, \"checkpoints/sentiment.ckpt\")"
   ]
  },
  {
   "cell_type": "code",
   "execution_count": null,
   "metadata": {
    "collapsed": true
   },
   "outputs": [],
   "source": [
    "test_acc = []\n",
    "with tf.Session(graph=graph) as sess:\n",
    "    saver.restore(sess, tf.train.latest_checkpoint('/output/checkpoints'))\n",
    "    test_state = sess.run(cell.zero_state(batch_size, tf.float32))\n",
    "    for ii, (x, y) in enumerate(get_batches(test_x, test_y, batch_size), 1):\n",
    "        feed = {inputs_: x,\n",
    "                labels_: y[:, None],\n",
    "                keep_prob: 1,\n",
    "                initial_state: test_state}\n",
    "        batch_acc, test_state = sess.run([accuracy, final_state], feed_dict=feed)\n",
    "        test_acc.append(batch_acc)\n",
    "    print(\"Test accuracy: {:.3f}\".format(np.mean(test_acc)))"
   ]
  },
  {
   "cell_type": "code",
   "execution_count": null,
   "metadata": {
    "collapsed": true
   },
   "outputs": [],
   "source": []
  },
  {
   "cell_type": "code",
   "execution_count": null,
   "metadata": {
    "collapsed": true
   },
   "outputs": [],
   "source": []
  },
  {
   "cell_type": "code",
   "execution_count": null,
   "metadata": {
    "collapsed": true
   },
   "outputs": [],
   "source": []
  },
  {
   "cell_type": "code",
   "execution_count": null,
   "metadata": {
    "collapsed": true
   },
   "outputs": [],
   "source": []
  },
  {
   "cell_type": "code",
   "execution_count": null,
   "metadata": {
    "collapsed": true
   },
   "outputs": [],
   "source": []
  }
 ],
 "metadata": {
  "kernelspec": {
   "display_name": "Python 3",
   "language": "python",
   "name": "python3"
  },
  "language_info": {
   "codemirror_mode": {
    "name": "ipython",
    "version": 3
   },
   "file_extension": ".py",
   "mimetype": "text/x-python",
   "name": "python",
   "nbconvert_exporter": "python",
   "pygments_lexer": "ipython3",
   "version": "3.5.2"
  }
 },
 "nbformat": 4,
 "nbformat_minor": 1
}
