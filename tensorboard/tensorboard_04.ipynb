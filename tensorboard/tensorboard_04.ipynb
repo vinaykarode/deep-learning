{
 "cells": [
  {
   "cell_type": "code",
   "execution_count": 17,
   "metadata": {
    "collapsed": false
   },
   "outputs": [
    {
     "name": "stdout",
     "output_type": "stream",
     "text": [
      "Extracting MNIST_data/train-images-idx3-ubyte.gz\n",
      "Extracting MNIST_data/train-labels-idx1-ubyte.gz\n",
      "Extracting MNIST_data/t10k-images-idx3-ubyte.gz\n",
      "Extracting MNIST_data/t10k-labels-idx1-ubyte.gz\n",
      "/Users/vinay/Desktop/deep-learning/tensorboard/4/\n"
     ]
    }
   ],
   "source": [
    "import tensorflow as tf\n",
    "from tensorflow.examples.tutorials.mnist import input_data\n",
    "mnist = input_data.read_data_sets('MNIST_data', one_hot=True)\n",
    "tf.reset_default_graph()\n",
    "\n",
    "import os\n",
    "LOGDIR = os.getcwd() +'/4/'\n",
    "print(LOGDIR)"
   ]
  },
  {
   "cell_type": "markdown",
   "metadata": {},
   "source": [
    "# layer definition"
   ]
  },
  {
   "cell_type": "code",
   "execution_count": 18,
   "metadata": {
    "collapsed": true
   },
   "outputs": [],
   "source": [
    "#define simple convolution layer\n",
    "def conv_layer(input, channels_in, channels_out, name='convolution'):\n",
    "    with tf.name_scope(name):\n",
    "        w = tf.Variable(tf.truncated_normal([5,5,channels_in, channels_out], stddev=0.1), name='W')\n",
    "        b = tf.Variable(tf.constant(0.1, shape=[channels_out]), name='B')\n",
    "        conv = tf.nn.conv2d(input, w, strides=[1,1,1,1], padding='SAME')\n",
    "        activation = tf.nn.relu(conv + b)\n",
    "        tf.summary.histogram('weights', w)\n",
    "        tf.summary.histogram('biases', b)\n",
    "        tf.summary.histogram('activations', activation)\n",
    "        return activation\n",
    "\n",
    "#define a fully connected layer\n",
    "def fc_layer(input, channels_in, channels_out, name='Fc'):\n",
    "    with tf.name_scope(name):\n",
    "        w = tf.Variable(tf.truncated_normal([channels_in,channels_out], stddev=0.1), name='W')\n",
    "        b = tf.Variable(tf.constant(0.1, shape=[channels_out]), name='B')\n",
    "        activation = tf.nn.relu(tf.matmul(input, w)+b)\n",
    "        tf.summary.histogram('weights', w)\n",
    "        tf.summary.histogram('biases', b)\n",
    "        tf.summary.histogram('activations', activation)\n",
    "        return activation"
   ]
  },
  {
   "cell_type": "markdown",
   "metadata": {},
   "source": [
    "# Create model"
   ]
  },
  {
   "cell_type": "code",
   "execution_count": 19,
   "metadata": {
    "collapsed": true
   },
   "outputs": [],
   "source": [
    "\n",
    "def mnist_model(learning_rate, use_2_conv_layer, use_2_fully_conn_layer, hyper_string):\n",
    "    tf.reset_default_graph()\n",
    "    sess = tf.Session()\n",
    "\n",
    "    #setup placeholders\n",
    "    x = tf.placeholder(tf.float32, shape=[None,784], name='x')\n",
    "    y = tf.placeholder(tf.float32, shape=[None,10], name='labels')\n",
    "    x_image = tf.reshape(x, [-1, 28,28,1])\n",
    "    tf.summary.image('input_image', x_image, 3)\n",
    "\n",
    "    #===============================================================\n",
    "    #feed forward network\n",
    "    #create network\n",
    "    if use_2_conv_layer:\n",
    "        conv1 = conv_layer(x_image, 1, 32, 'conv1')\n",
    "        pool1 = tf.nn.max_pool(conv1, ksize=[1,2,2,1], strides=[1,2,2,1], padding='SAME')\n",
    "\n",
    "        conv2 = conv_layer(pool1, 32, 64, 'conv2')\n",
    "        pool2 = tf.nn.max_pool(conv2, ksize=[1,2,2,1], strides=[1,2,2,1], padding='SAME')\n",
    "        flattened = tf.reshape(pool2, [-1, 7*7*64])\n",
    "    else:\n",
    "        conv1 = conv_layer(x_image, 1, 64, 'conv')\n",
    "        pool1 = tf.nn.max_pool(conv1, ksize=[1,2,2,1], strides=[1,2,2,1], padding='SAME')\n",
    "        pool2 = tf.nn.max_pool(pool1, ksize=[1,2,2,1], strides=[1,2,2,1], padding='SAME')\n",
    "        flattened = tf.reshape(pool2, [-1, 7*7*64])\n",
    "\n",
    "    if use_2_fully_conn_layer:\n",
    "        fc1 = fc_layer(flattened, 7*7*64, 1024, 'fc1')\n",
    "        embedding_input = fc1\n",
    "        embedding_size = 1024\n",
    "        logits = fc_layer(fc1, 1024, 10, 'fc2')    \n",
    "    else:\n",
    "        embedding_input = flattened\n",
    "        embedding_size = 7*7*64\n",
    "        logits = fc_layer(flattened, 7*7*64, 10, 'fc')\n",
    "\n",
    "    #===============================================================\n",
    "    # loss & training\n",
    "    #compute cross entropy\n",
    "    with tf.name_scope('cross_entropy'):\n",
    "        cross_entropy = tf.reduce_mean(tf.nn.softmax_cross_entropy_with_logits(logits=logits, labels=y))\n",
    "        tf.summary.scalar('cross_entropy_scalar', cross_entropy)\n",
    "\n",
    "    #use adamoptimizer to train network\n",
    "    with tf.name_scope('train_step'):\n",
    "        train_step = tf.train.AdamOptimizer(1e-4).minimize(cross_entropy)\n",
    "\n",
    "    #compute accuracy\n",
    "    with tf.name_scope('accuraracy'):\n",
    "        correct_prediction = tf.equal(tf.argmax(logits,1), tf.argmax(y,1))\n",
    "        accuracy = tf.reduce_mean(tf.cast(correct_prediction, tf.float32))\n",
    "        tf.summary.scalar('accuracy', accuracy)\n",
    "    \n",
    "    #===============================================================\n",
    "    #train the model\n",
    "    #initialise all varibles\n",
    "    sess.run(tf.global_variables_initializer())\n",
    "\n",
    "    merged_summary = tf.summary.merge_all()\n",
    "    writer = tf.summary.FileWriter(LOGDIR + hyper_string)\n",
    "    writer.add_graph(sess.graph)\n",
    "\n",
    "    embedding = tf.Variable(tf.zeros([1024, embedding_size]), name=\"test_embedding\")\n",
    "    assignment = embedding.assign(embedding_input)\n",
    "    saver = tf.train.Saver()\n",
    "    \n",
    "    \n",
    "    config = tf.contrib.tensorboard.plugins.projector.ProjectorConfig()\n",
    "    embedding_config = config.embeddings.add()\n",
    "    embedding_config.tensor_name = embedding.name\n",
    "    embedding_config.sprite.image_path = LOGDIR + 'sprite_1024.png'\n",
    "    embedding_config.metadata_path = LOGDIR + 'labels_1024.tsv'\n",
    "    # Specify the width and height of a single thumbnail.\n",
    "    embedding_config.sprite.single_image_dim.extend([28, 28])\n",
    "    tf.contrib.tensorboard.plugins.projector.visualize_embeddings(writer, config)\n",
    "    \n",
    "    #train for 1000 steps\n",
    "    for i in range(1000):\n",
    "        batch = mnist.train.next_batch(100)\n",
    "\n",
    "        #occasionally report accuracy\n",
    "        if i % 200 == 0:\n",
    "            [train_accuracy] = sess.run([accuracy], feed_dict={x:batch[0], y:batch[1]})\n",
    "            print('step %d, training accuracy %g' %(i, train_accuracy))\n",
    "\n",
    "        if i % 5 == 0:\n",
    "            s = sess.run(merged_summary, feed_dict={x:batch[0], y:batch[1]})\n",
    "            writer.add_summary(s, i)\n",
    "            \n",
    "        if i % 500 == 0:\n",
    "            sess.run(assignment, feed_dict={x: mnist.test.images[:1024], y: mnist.test.labels[:1024]})\n",
    "            saver.save(sess, os.path.join(LOGDIR, \"model.ckpt\"), i)\n",
    "\n",
    "\n",
    "        #run training step\n",
    "        sess.run(train_step, feed_dict={x:batch[0],y:batch[1]})\n",
    "\n",
    "def make_hparam_string(learning_rate, use_two_fc, use_two_conv):\n",
    "    conv_param = \"conv=2\" if use_two_conv else \"conv=1\"\n",
    "    fc_param = \"fc=2\" if use_two_fc else \"fc=1\"\n",
    "    return \"lr_%.0E,%s,%s\" % (learning_rate, conv_param, fc_param)"
   ]
  },
  {
   "cell_type": "code",
   "execution_count": 20,
   "metadata": {
    "collapsed": false
   },
   "outputs": [
    {
     "name": "stdout",
     "output_type": "stream",
     "text": [
      "Starting run for lr_1E-04,conv=2,fc=2\n",
      "step 0, training accuracy 0.15\n",
      "step 200, training accuracy 0.09\n",
      "step 400, training accuracy 0.07\n",
      "step 600, training accuracy 0.05\n",
      "step 800, training accuracy 0.13\n"
     ]
    }
   ],
   "source": [
    "for learning_rate in [1E-4]:\n",
    "    # Include \"False\" as a value to try different model architectures\n",
    "    for use_two_fc in [True]:\n",
    "        for use_two_conv in [True]:\n",
    "            # Construct a hyperparameter string for each one (example: \"lr_1E-3,fc=2,conv=2)\n",
    "            hparam = make_hparam_string(learning_rate, use_two_fc, use_two_conv)\n",
    "            print('Starting run for %s' % hparam)\n",
    "\n",
    "            # Actually run with the new settings\n",
    "            mnist_model(learning_rate, use_two_fc, use_two_conv, hparam)\n"
   ]
  },
  {
   "cell_type": "code",
   "execution_count": null,
   "metadata": {
    "collapsed": true
   },
   "outputs": [],
   "source": []
  }
 ],
 "metadata": {
  "kernelspec": {
   "display_name": "Python 3",
   "language": "python",
   "name": "python3"
  },
  "language_info": {
   "codemirror_mode": {
    "name": "ipython",
    "version": 3
   },
   "file_extension": ".py",
   "mimetype": "text/x-python",
   "name": "python",
   "nbconvert_exporter": "python",
   "pygments_lexer": "ipython3",
   "version": "3.5.2"
  }
 },
 "nbformat": 4,
 "nbformat_minor": 1
}
